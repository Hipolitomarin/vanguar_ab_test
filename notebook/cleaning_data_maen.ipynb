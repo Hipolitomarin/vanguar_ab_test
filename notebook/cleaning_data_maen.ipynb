{
 "cells": [
  {
   "cell_type": "code",
   "execution_count": 12,
   "id": "07525b8a-3b8a-49f4-841f-c2e4d724b5fa",
   "metadata": {},
   "outputs": [
    {
     "name": "stdout",
     "output_type": "stream",
     "text": [
      "<class 'pandas.core.frame.DataFrame'>\n",
      "RangeIndex: 70609 entries, 0 to 70608\n",
      "Data columns (total 9 columns):\n",
      " #   Column            Non-Null Count  Dtype  \n",
      "---  ------            --------------  -----  \n",
      " 0   client_id         70609 non-null  int64  \n",
      " 1   clnt_tenure_yr    70595 non-null  float64\n",
      " 2   clnt_tenure_mnth  70595 non-null  float64\n",
      " 3   clnt_age          70594 non-null  float64\n",
      " 4   gendr             70595 non-null  object \n",
      " 5   num_accts         70595 non-null  float64\n",
      " 6   bal               70595 non-null  float64\n",
      " 7   calls_6_mnth      70595 non-null  float64\n",
      " 8   logons_6_mnth     70595 non-null  float64\n",
      "dtypes: float64(7), int64(1), object(1)\n",
      "memory usage: 4.8+ MB\n"
     ]
    }
   ],
   "source": [
    "import pandas as pd\n",
    "\n",
    "df_demo = pd.read_csv(\"/Users/souadmouajel/Desktop/Ironhack/lab-sessions/week-5/day-1/vanguar_ab_text/raw_data/df_final_demo.txt\")\n",
    "df_demo.info()"
   ]
  },
  {
   "cell_type": "code",
   "execution_count": 22,
   "id": "673aa9e5-f9f5-46b4-9e8e-4d9178fd07fe",
   "metadata": {},
   "outputs": [
    {
     "name": "stdout",
     "output_type": "stream",
     "text": [
      "   client_id Variation\n",
      "0    9988021      Test\n",
      "1    8320017      Test\n",
      "2    4033851   Control\n",
      "3    1982004      Test\n",
      "4    9294070   Control\n",
      "<class 'pandas.core.frame.DataFrame'>\n",
      "RangeIndex: 70609 entries, 0 to 70608\n",
      "Data columns (total 2 columns):\n",
      " #   Column     Non-Null Count  Dtype \n",
      "---  ------     --------------  ----- \n",
      " 0   client_id  70609 non-null  int64 \n",
      " 1   Variation  50500 non-null  object\n",
      "dtypes: int64(1), object(1)\n",
      "memory usage: 1.1+ MB\n"
     ]
    }
   ],
   "source": [
    "df_experiment_clients = pd.read_csv(\"df_final_experiment_clients.txt\")\n",
    "print(df_experiment_clients.head())\n",
    "df_experiment_clients.info()"
   ]
  },
  {
   "cell_type": "code",
   "execution_count": 24,
   "id": "df1fdcf7-4e0d-4d97-8ba6-b9bbf61e2c63",
   "metadata": {},
   "outputs": [
    {
     "name": "stdout",
     "output_type": "stream",
     "text": [
      "   client_id            visitor_id                      visit_id process_step  \\\n",
      "0    9988021  580560515_7732621733  781255054_21935453173_531117       step_3   \n",
      "1    9988021  580560515_7732621733  781255054_21935453173_531117       step_2   \n",
      "2    9988021  580560515_7732621733  781255054_21935453173_531117       step_3   \n",
      "3    9988021  580560515_7732621733  781255054_21935453173_531117       step_2   \n",
      "4    9988021  580560515_7732621733  781255054_21935453173_531117       step_3   \n",
      "\n",
      "             date_time  \n",
      "0  2017-04-17 15:27:07  \n",
      "1  2017-04-17 15:26:51  \n",
      "2  2017-04-17 15:19:22  \n",
      "3  2017-04-17 15:19:13  \n",
      "4  2017-04-17 15:18:04  \n",
      "<class 'pandas.core.frame.DataFrame'>\n",
      "RangeIndex: 343141 entries, 0 to 343140\n",
      "Data columns (total 5 columns):\n",
      " #   Column        Non-Null Count   Dtype \n",
      "---  ------        --------------   ----- \n",
      " 0   client_id     343141 non-null  int64 \n",
      " 1   visitor_id    343141 non-null  object\n",
      " 2   visit_id      343141 non-null  object\n",
      " 3   process_step  343141 non-null  object\n",
      " 4   date_time     343141 non-null  object\n",
      "dtypes: int64(1), object(4)\n",
      "memory usage: 13.1+ MB\n"
     ]
    }
   ],
   "source": [
    "df_web_data_1 = pd.read_csv(\"df_final_web_data_pt_1.txt\")\n",
    "print(df_web_data_1.head())\n",
    "df_web_data_1.info()"
   ]
  },
  {
   "cell_type": "code",
   "execution_count": 26,
   "id": "5332b096-50da-4718-a150-a21d636e6036",
   "metadata": {},
   "outputs": [
    {
     "name": "stdout",
     "output_type": "stream",
     "text": [
      "   client_id             visitor_id                      visit_id  \\\n",
      "0     763412  601952081_10457207388  397475557_40440946728_419634   \n",
      "1    6019349  442094451_91531546617  154620534_35331068705_522317   \n",
      "2    6019349  442094451_91531546617  154620534_35331068705_522317   \n",
      "3    6019349  442094451_91531546617  154620534_35331068705_522317   \n",
      "4    6019349  442094451_91531546617  154620534_35331068705_522317   \n",
      "\n",
      "  process_step            date_time  \n",
      "0      confirm  2017-06-06 08:56:00  \n",
      "1      confirm  2017-06-01 11:59:27  \n",
      "2       step_3  2017-06-01 11:58:48  \n",
      "3       step_2  2017-06-01 11:58:08  \n",
      "4       step_1  2017-06-01 11:57:58  \n",
      "<class 'pandas.core.frame.DataFrame'>\n",
      "RangeIndex: 412264 entries, 0 to 412263\n",
      "Data columns (total 5 columns):\n",
      " #   Column        Non-Null Count   Dtype \n",
      "---  ------        --------------   ----- \n",
      " 0   client_id     412264 non-null  int64 \n",
      " 1   visitor_id    412264 non-null  object\n",
      " 2   visit_id      412264 non-null  object\n",
      " 3   process_step  412264 non-null  object\n",
      " 4   date_time     412264 non-null  object\n",
      "dtypes: int64(1), object(4)\n",
      "memory usage: 15.7+ MB\n"
     ]
    }
   ],
   "source": [
    "df_web_data_2 = pd.read_csv(\"df_final_web_data_pt_2.txt\")\n",
    "print(df_web_data_2.head())\n",
    "df_web_data_2.info()"
   ]
  },
  {
   "cell_type": "code",
   "execution_count": 16,
   "id": "29ff122f-48a1-4e3d-9001-56412b9ad700",
   "metadata": {},
   "outputs": [],
   "source": [
    "# Metadata\n",
    "# This comprehensive set of fields will guide your analysis, helping you unravel the intricacies of client behavior and preferences.\n",
    "\n",
    "# client_id: Every client's unique ID.\n",
    "# variation: Indicates if a client was part of the experiment.\n",
    "# visitor_id: A unique ID for each client-device combination.\n",
    "# visit_id: A unique ID for each web visit/session.\n",
    "# process_step: Marks each step in the digital process.\n",
    "# date_time: Timestamp of each web activity.\n",
    "# clnt_tenure_yr: Represents how long the client has been with Vanguard, measured in years.\n",
    "# clnt_tenure_mnth: Further breaks down the client's tenure with Vanguard in months.\n",
    "# clnt_age: Indicates the age of the client.\n",
    "# gendr: Specifies the client's gender.\n",
    "# num_accts: Denotes the number of accounts the client holds with Vanguard.\n",
    "# bal: Gives the total balance spread across all accounts for a particular client.\n",
    "# calls_6_mnth: Records the number of times the client reached out over a call in the past six months.\n",
    "# logons_6_mnth: Reflects the frequency with which the client logged onto Vanguard's platform over the last six months.\n"
   ]
  },
  {
   "cell_type": "code",
   "execution_count": null,
   "id": "f78e112e-9641-41ec-b4e2-b54587c3f9c6",
   "metadata": {},
   "outputs": [],
   "source": [
    "df_experiment_clients = pd.read_csv(\"df_final_experiment_clients.txt\")\n",
    "print(df_experiment_clients.head())\n",
    "df_experiment_clients.info()"
   ]
  },
  {
   "cell_type": "code",
   "execution_count": 28,
   "id": "8c2b23ad-1361-47ab-b297-8dd62522fc01",
   "metadata": {},
   "outputs": [
    {
     "name": "stdout",
     "output_type": "stream",
     "text": [
      "<class 'pandas.core.frame.DataFrame'>\n",
      "RangeIndex: 70609 entries, 0 to 70608\n",
      "Data columns (total 9 columns):\n",
      " #   Column            Non-Null Count  Dtype  \n",
      "---  ------            --------------  -----  \n",
      " 0   client_id         70609 non-null  int64  \n",
      " 1   clnt_tenure_yr    70595 non-null  float64\n",
      " 2   clnt_tenure_mnth  70595 non-null  float64\n",
      " 3   clnt_age          70594 non-null  float64\n",
      " 4   gendr             70595 non-null  object \n",
      " 5   num_accts         70595 non-null  float64\n",
      " 6   bal               70595 non-null  float64\n",
      " 7   calls_6_mnth      70595 non-null  float64\n",
      " 8   logons_6_mnth     70595 non-null  float64\n",
      "dtypes: float64(7), int64(1), object(1)\n",
      "memory usage: 4.8+ MB\n"
     ]
    }
   ],
   "source": [
    "df_demo = pd.read_csv(\"df_final_demo.txt\")\n",
    "df_demo.info()"
   ]
  },
  {
   "cell_type": "code",
   "execution_count": 76,
   "id": "90c9160c-9e2d-44c4-a02a-4f2fa90c3b93",
   "metadata": {},
   "outputs": [],
   "source": [
    "## The data look very clean. We need only to change the datatype of columns: num_accts, calls_6_mnth, logons_6_mnth\n",
    "import numpy as np\n",
    "df_demo[\"num_accts\"] = df_demo[\"num_accts\"].fillna(0).astype(int)\n",
    "df_demo['num_accts'] = df_demo['num_accts'].apply(np.int64)\n",
    "df_demo[\"calls_6_mnth\"] = df_demo[\"calls_6_mnth\"].fillna(0).astype(int)\n",
    "df_demo['calls_6_mnth'] = df_demo['calls_6_mnth'].apply(np.int64)\n",
    "df_demo[\"logons_6_mnth\"] = df_demo[\"logons_6_mnth\"].fillna(0).astype(int)\n",
    "df_demo['logons_6_mnth'] = df_demo['logons_6_mnth'].apply(np.int64)"
   ]
  },
  {
   "cell_type": "code",
   "execution_count": 78,
   "id": "40b21cd7-c7d5-4043-8cf0-4381436e21a9",
   "metadata": {},
   "outputs": [
    {
     "name": "stdout",
     "output_type": "stream",
     "text": [
      "<class 'pandas.core.frame.DataFrame'>\n",
      "RangeIndex: 70609 entries, 0 to 70608\n",
      "Data columns (total 9 columns):\n",
      " #   Column            Non-Null Count  Dtype  \n",
      "---  ------            --------------  -----  \n",
      " 0   client_id         70609 non-null  int64  \n",
      " 1   clnt_tenure_yr    70595 non-null  float64\n",
      " 2   clnt_tenure_mnth  70595 non-null  float64\n",
      " 3   clnt_age          70594 non-null  float64\n",
      " 4   gendr             70595 non-null  object \n",
      " 5   num_accts         70609 non-null  int64  \n",
      " 6   bal               70595 non-null  float64\n",
      " 7   calls_6_mnth      70609 non-null  int64  \n",
      " 8   logons_6_mnth     70609 non-null  int64  \n",
      "dtypes: float64(4), int64(4), object(1)\n",
      "memory usage: 4.8+ MB\n"
     ]
    }
   ],
   "source": [
    "df_demo.info()"
   ]
  },
  {
   "cell_type": "code",
   "execution_count": 86,
   "id": "aba64f3f-291d-4abe-a6f6-010cdb744a25",
   "metadata": {},
   "outputs": [],
   "source": [
    "demo =pd.read_csv(\"demo_clean.csv\")"
   ]
  },
  {
   "cell_type": "code",
   "execution_count": 84,
   "id": "596d96e8-bc09-4f51-9b45-e16f9a67537d",
   "metadata": {},
   "outputs": [
    {
     "name": "stdout",
     "output_type": "stream",
     "text": [
      "/Users/souadmouajel/Desktop/Ironhack/lab-sessions/week-5/day-1\n"
     ]
    }
   ],
   "source": [
    "import os\n",
    "print(os.getcwd())"
   ]
  },
  {
   "cell_type": "code",
   "execution_count": 88,
   "id": "182b7bd9-be10-4b98-83e3-9a9356cb3d5b",
   "metadata": {},
   "outputs": [
    {
     "name": "stdout",
     "output_type": "stream",
     "text": [
      "<class 'pandas.core.frame.DataFrame'>\n",
      "RangeIndex: 70609 entries, 0 to 70608\n",
      "Data columns (total 9 columns):\n",
      " #   Column            Non-Null Count  Dtype  \n",
      "---  ------            --------------  -----  \n",
      " 0   client_id         70609 non-null  int64  \n",
      " 1   clnt_tenure_yr    70577 non-null  float64\n",
      " 2   clnt_tenure_mnth  70595 non-null  float64\n",
      " 3   clnt_age          70358 non-null  float64\n",
      " 4   gendr             70609 non-null  object \n",
      " 5   num_accts         70609 non-null  int64  \n",
      " 6   bal               70595 non-null  float64\n",
      " 7   calls_6_mnth      70609 non-null  int64  \n",
      " 8   logons_6_mnth     70609 non-null  int64  \n",
      "dtypes: float64(4), int64(4), object(1)\n",
      "memory usage: 4.8+ MB\n"
     ]
    }
   ],
   "source": [
    "demo.info()"
   ]
  },
  {
   "cell_type": "code",
   "execution_count": 16,
   "id": "523ebfba-a640-4f18-9854-4eb7f49d0173",
   "metadata": {},
   "outputs": [
    {
     "data": {
      "text/plain": [
       "count    7.059500e+04\n",
       "mean     1.474452e+05\n",
       "std      3.015087e+05\n",
       "min      1.378942e+04\n",
       "25%      3.734683e+04\n",
       "50%      6.333290e+04\n",
       "75%      1.375449e+05\n",
       "max      1.632004e+07\n",
       "Name: bal, dtype: float64"
      ]
     },
     "execution_count": 16,
     "metadata": {},
     "output_type": "execute_result"
    }
   ],
   "source": [
    "df_demo[\"bal\"].describe()"
   ]
  },
  {
   "cell_type": "code",
   "execution_count": 10,
   "id": "26697327-f06d-4223-8c18-65fa49264a65",
   "metadata": {},
   "outputs": [
    {
     "data": {
      "text/plain": [
       "'/Users/souadmouajel/Desktop/Ironhack/lab-sessions/week-5/day-1/vanguar_ab_text/notebook'"
      ]
     },
     "execution_count": 10,
     "metadata": {},
     "output_type": "execute_result"
    }
   ],
   "source": [
    "import os\n",
    "os.getcwd()\n"
   ]
  },
  {
   "cell_type": "code",
   "execution_count": 19,
   "id": "ac0ab314-b792-4f0c-9a34-e8beab8c74de",
   "metadata": {},
   "outputs": [],
   "source": [
    "import pandas as pd\n",
    "import matplotlib.pyplot as plt\n",
    "import seaborn as sns\n",
    "import numpy as np\n",
    "\n",
    "%matplotlib inline"
   ]
  },
  {
   "cell_type": "code",
   "execution_count": 24,
   "id": "812aad1c-7ebd-4258-8335-3023e5472f47",
   "metadata": {},
   "outputs": [
    {
     "data": {
      "image/png": "[encoded data removed]",
      "text/plain": [
       "<Figure size 640x480 with 1 Axes>"
      ]
     },
     "metadata": {},
     "output_type": "display_data"
    },
    {
     "data": {
      "image/png": "[encoded data removed]",
      "text/plain": [
       "<Figure size 640x480 with 1 Axes>"
      ]
     },
     "metadata": {},
     "output_type": "display_data"
    }
   ],
   "source": [
    "fig, axes = plt.subplots()\n",
    "sns.histplot(df_demo['bal'], kde=True, bins=30, color=\"salmon\", ax=axes);\n",
    "plt.show()"
   ]
  },
  {
   "cell_type": "code",
   "execution_count": 26,
   "id": "1a6953f2-8e6f-4b13-b5ce-3a7410f3c02b",
   "metadata": {},
   "outputs": [
    {
     "data": {
      "image/png": "[encoded data removed]",
      "text/plain": [
       "<Figure size 800x500 with 1 Axes>"
      ]
     },
     "metadata": {},
     "output_type": "display_data"
    }
   ],
   "source": [
    "import numpy as np\n",
    "import matplotlib.pyplot as plt\n",
    "\n",
    "plt.figure(figsize=(8, 5))\n",
    "plt.hist(np.log1p(df_demo['bal']), bins=50)  # log1p = log(1 + x) to handle zeros\n",
    "plt.title('Log-Scaled Balance Distribution')\n",
    "plt.xlabel('Log(Balance + 1)')\n",
    "plt.ylabel('Count')\n",
    "plt.show()\n"
   ]
  },
  {
   "cell_type": "code",
   "execution_count": 47,
   "id": "bd918176-1a89-40c0-bed1-934c9280f3a0",
   "metadata": {},
   "outputs": [],
   "source": [
    "#Cleaning the clnt_tenure_yr column ----------------------- clnt_tenure_yr--------------------\n",
    "\n",
    "# Convert to integers and correct out-of-range values (0–50)\n",
    "df_demo['clnt_tenure_yr'] = df_demo['clnt_tenure_yr'].round().astype('Int64')\n",
    "df_demo.loc[~df_demo['clnt_tenure_yr'].between(0, 50), 'clnt_tenure_yr'] = pd.NA"
   ]
  },
  {
   "cell_type": "code",
   "execution_count": 52,
   "id": "1e550676-e12a-442e-93c4-ee05121984d2",
   "metadata": {},
   "outputs": [],
   "source": [
    "#Cleaing the clnt_tenure_mnth column ----------------------------clnt_tenure_mnth-----------------------------------------\n",
    "\n",
    "# Round and convert to integers\n",
    "df_demo['clnt_tenure_mnth'] = df_demo['clnt_tenure_mnth'].round().astype('Int64')\n",
    "\n",
    "# If there are months >= 12, convert the excess to years\n",
    "overflow = df_demo['clnt_tenure_mnth'] // 12\n",
    "df_demo['clnt_tenure_yr'] += overflow\n",
    "df_demo['clnt_tenure_mnth'] = df_demo['clnt_tenure_mnth'] % 12"
   ]
  },
  {
   "cell_type": "code",
   "execution_count": 55,
   "id": "604cee74-5d02-4a24-ad1b-b051f78d10a3",
   "metadata": {},
   "outputs": [],
   "source": [
    "#Cleaning the clnt_age column -------------------------------clnt_age------------------------------------\n",
    "\n",
    "# Fill the single null with the median\n",
    "median_age = df_demo['clnt_age'].median()\n",
    "df_demo['clnt_age'] = df_demo['clnt_age'].fillna(median_age).round().astype('Int64')\n",
    "\n",
    "# Nullify ages outside of 18–100\n",
    "df_demo.loc[~df_demo['clnt_age'].between(18, 100), 'clnt_age'] = pd.NA"
   ]
  },
  {
   "cell_type": "code",
   "execution_count": 58,
   "id": "c55cb901-afc6-47bc-930e-0f3e777096a2",
   "metadata": {},
   "outputs": [],
   "source": [
    "#Cleaning the gender column --------------------------------------gendr-----------------------------------------\n",
    "#use dictionary for map\n",
    "map_gender = {\n",
    "    'm': 'male',\n",
    "    'male': 'male',\n",
    "    'f': 'female',\n",
    "    'female': 'female'\n",
    "}\n",
    "#convert to object and nulls are unknow:\n",
    "df_demo['gendr'] = (\n",
    "    df_demo['gendr']\n",
    "        .astype(str)\n",
    "        .str.strip()\n",
    "        .str.lower()\n",
    "        .map(map_gender)\n",
    "        .fillna('unknown')\n",
    ")"
   ]
  },
  {
   "cell_type": "code",
   "execution_count": 61,
   "id": "4e9e185b-8a49-40ee-bcb2-972bf5a9a02d",
   "metadata": {},
   "outputs": [
    {
     "data": {
      "text/plain": [
       "clnt_age\n",
       "58    2407\n",
       "30    2374\n",
       "52    2374\n",
       "54    2365\n",
       "28    2353\n",
       "      ... \n",
       "89      14\n",
       "94       8\n",
       "91       6\n",
       "96       3\n",
       "93       3\n",
       "Name: count, Length: 78, dtype: Int64"
      ]
     },
     "execution_count": 61,
     "metadata": {},
     "output_type": "execute_result"
    }
   ],
   "source": [
    "df_demo['clnt_age'].value_counts()"
   ]
  },
  {
   "cell_type": "code",
   "execution_count": 67,
   "id": "6189f8a1-4315-4af0-85a6-c2c8ae587dd9",
   "metadata": {},
   "outputs": [],
   "source": [
    "bins = [0, 17, 24, 34, 44, 54, 64, 74, 84, 120]\n",
    "labels = ['<18', '18–24', '25–34', '35–44', '45–54', '55–64', '65–74', '75–84', '85+']\n",
    "\n",
    "df_demo['age_group'] = pd.cut(df_demo['clnt_age'], bins=bins, labels=labels, right=False)\n"
   ]
  },
  {
   "cell_type": "code",
   "execution_count": 71,
   "id": "5f54a1b6-21eb-447e-bc1a-fb3c430b59be",
   "metadata": {},
   "outputs": [
    {
     "data": {
      "text/plain": [
       "age_group\n",
       "55–64    15170\n",
       "25–34    14552\n",
       "45–54    13800\n",
       "35–44    11911\n",
       "65–74     8924\n",
       "18–24     3717\n",
       "75–84     1960\n",
       "85+        324\n",
       "<18          0\n",
       "Name: count, dtype: int64"
      ]
     },
     "execution_count": 71,
     "metadata": {},
     "output_type": "execute_result"
    }
   ],
   "source": [
    "df_demo['age_group'].value_counts()"
   ]
  },
  {
   "cell_type": "code",
   "execution_count": 30,
   "id": "14f82229-46a9-48cb-b89c-3062953e010c",
   "metadata": {},
   "outputs": [
    {
     "data": {
      "text/plain": [
       "count    70595.000000\n",
       "mean         5.566740\n",
       "std          2.353286\n",
       "min          1.000000\n",
       "25%          4.000000\n",
       "50%          5.000000\n",
       "75%          7.000000\n",
       "max          9.000000\n",
       "Name: logons_6_mnth, dtype: float64"
      ]
     },
     "execution_count": 30,
     "metadata": {},
     "output_type": "execute_result"
    }
   ],
   "source": [
    "# Answer the following questions about demographics:\n",
    "\n",
    "# Who are the primary clients using this online process?\n",
    "# Are the primary clients younger or older, new or long-standing?\n",
    "# Next, carry out a client behaviour analysis to answer any additional relevant questions you think are important.\n",
    "\n",
    "df_demo[\"logons_6_mnth\"].describe()\n"
   ]
  },
  {
   "cell_type": "code",
   "execution_count": 32,
   "id": "4012ace6-7a6c-422c-a198-2fd74eed1832",
   "metadata": {},
   "outputs": [
    {
     "data": {
      "text/plain": [
       "logons_6_mnth\n",
       "9.0    12350\n",
       "3.0    10243\n",
       "4.0    10220\n",
       "7.0     9893\n",
       "5.0     9254\n",
       "6.0     7878\n",
       "8.0     4810\n",
       "2.0     3009\n",
       "1.0     2938\n",
       "Name: count, dtype: int64"
      ]
     },
     "execution_count": 32,
     "metadata": {},
     "output_type": "execute_result"
    }
   ],
   "source": [
    "df_demo[\"logons_6_mnth\"].value_counts()\n"
   ]
  },
  {
   "cell_type": "code",
   "execution_count": 38,
   "id": "4f7a0618-6cc7-4008-a69d-1a182e81a2d8",
   "metadata": {},
   "outputs": [
    {
     "data": {
      "image/png": "[encoded data removed]",
      "text/plain": [
       "<Figure size 640x480 with 1 Axes>"
      ]
     },
     "metadata": {},
     "output_type": "display_data"
    }
   ],
   "source": [
    "fig, axes = plt.subplots()\n",
    "sns.histplot(df_demo['logons_6_mnth'], kde=True, bins=9, color=\"salmon\", ax=axes);\n",
    "plt.show()"
   ]
  },
  {
   "cell_type": "code",
   "execution_count": 40,
   "id": "8548cca1-193f-4ca6-b87a-169dc0af0643",
   "metadata": {},
   "outputs": [
    {
     "data": {
      "image/png": "[encoded data removed]",
      "text/plain": [
       "<Figure size 800x500 with 1 Axes>"
      ]
     },
     "metadata": {},
     "output_type": "display_data"
    }
   ],
   "source": [
    "plt.figure(figsize=(8, 5))\n",
    "sns.boxplot(x=df_demo['logons_6_mnth'])\n",
    "plt.title('Boxplot of logons in last 6 mnth (Zoomed In)')\n",
    "plt.show()"
   ]
  },
  {
   "cell_type": "code",
   "execution_count": 42,
   "id": "3492221d-ab59-4d30-8704-f6c014169cda",
   "metadata": {},
   "outputs": [],
   "source": [
    "# I will define the primary clinet who are using the online prcoess by: the ones who logged more thatn 7 times last six months"
   ]
  },
  {
   "cell_type": "code",
   "execution_count": 76,
   "id": "8059b6a2-3b23-4177-ad21-dd3272225fba",
   "metadata": {},
   "outputs": [
    {
     "data": {
      "text/html": [
       "<div>\n",
       "<style scoped>\n",
       "    .dataframe tbody tr th:only-of-type {\n",
       "        vertical-align: middle;\n",
       "    }\n",
       "\n",
       "    .dataframe tbody tr th {\n",
       "        vertical-align: top;\n",
       "    }\n",
       "\n",
       "    .dataframe thead th {\n",
       "        text-align: right;\n",
       "    }\n",
       "</style>\n",
       "<table border=\"1\" class=\"dataframe\">\n",
       "  <thead>\n",
       "    <tr style=\"text-align: right;\">\n",
       "      <th>age_group</th>\n",
       "      <th>18–24</th>\n",
       "      <th>25–34</th>\n",
       "      <th>35–44</th>\n",
       "      <th>45–54</th>\n",
       "      <th>55–64</th>\n",
       "      <th>65–74</th>\n",
       "      <th>75–84</th>\n",
       "      <th>85+</th>\n",
       "    </tr>\n",
       "    <tr>\n",
       "      <th>logons_6_mnth</th>\n",
       "      <th></th>\n",
       "      <th></th>\n",
       "      <th></th>\n",
       "      <th></th>\n",
       "      <th></th>\n",
       "      <th></th>\n",
       "      <th></th>\n",
       "      <th></th>\n",
       "    </tr>\n",
       "  </thead>\n",
       "  <tbody>\n",
       "    <tr>\n",
       "      <th>1.0</th>\n",
       "      <td>224</td>\n",
       "      <td>651</td>\n",
       "      <td>600</td>\n",
       "      <td>649</td>\n",
       "      <td>568</td>\n",
       "      <td>159</td>\n",
       "      <td>39</td>\n",
       "      <td>5</td>\n",
       "    </tr>\n",
       "    <tr>\n",
       "      <th>2.0</th>\n",
       "      <td>258</td>\n",
       "      <td>660</td>\n",
       "      <td>560</td>\n",
       "      <td>666</td>\n",
       "      <td>539</td>\n",
       "      <td>222</td>\n",
       "      <td>44</td>\n",
       "      <td>10</td>\n",
       "    </tr>\n",
       "    <tr>\n",
       "      <th>3.0</th>\n",
       "      <td>554</td>\n",
       "      <td>2022</td>\n",
       "      <td>2101</td>\n",
       "      <td>2231</td>\n",
       "      <td>2128</td>\n",
       "      <td>937</td>\n",
       "      <td>186</td>\n",
       "      <td>41</td>\n",
       "    </tr>\n",
       "    <tr>\n",
       "      <th>4.0</th>\n",
       "      <td>572</td>\n",
       "      <td>2092</td>\n",
       "      <td>1885</td>\n",
       "      <td>2157</td>\n",
       "      <td>2121</td>\n",
       "      <td>1079</td>\n",
       "      <td>238</td>\n",
       "      <td>38</td>\n",
       "    </tr>\n",
       "    <tr>\n",
       "      <th>5.0</th>\n",
       "      <td>465</td>\n",
       "      <td>1795</td>\n",
       "      <td>1534</td>\n",
       "      <td>1841</td>\n",
       "      <td>2030</td>\n",
       "      <td>1272</td>\n",
       "      <td>244</td>\n",
       "      <td>49</td>\n",
       "    </tr>\n",
       "    <tr>\n",
       "      <th>6.0</th>\n",
       "      <td>383</td>\n",
       "      <td>1505</td>\n",
       "      <td>1206</td>\n",
       "      <td>1487</td>\n",
       "      <td>1787</td>\n",
       "      <td>1202</td>\n",
       "      <td>240</td>\n",
       "      <td>44</td>\n",
       "    </tr>\n",
       "    <tr>\n",
       "      <th>7.0</th>\n",
       "      <td>652</td>\n",
       "      <td>2040</td>\n",
       "      <td>1407</td>\n",
       "      <td>1799</td>\n",
       "      <td>2204</td>\n",
       "      <td>1422</td>\n",
       "      <td>290</td>\n",
       "      <td>51</td>\n",
       "    </tr>\n",
       "    <tr>\n",
       "      <th>8.0</th>\n",
       "      <td>159</td>\n",
       "      <td>915</td>\n",
       "      <td>727</td>\n",
       "      <td>909</td>\n",
       "      <td>1126</td>\n",
       "      <td>758</td>\n",
       "      <td>194</td>\n",
       "      <td>21</td>\n",
       "    </tr>\n",
       "    <tr>\n",
       "      <th>9.0</th>\n",
       "      <td>450</td>\n",
       "      <td>2872</td>\n",
       "      <td>1891</td>\n",
       "      <td>2047</td>\n",
       "      <td>2667</td>\n",
       "      <td>1873</td>\n",
       "      <td>485</td>\n",
       "      <td>65</td>\n",
       "    </tr>\n",
       "  </tbody>\n",
       "</table>\n",
       "</div>"
      ],
      "text/plain": [
       "age_group      18–24  25–34  35–44  45–54  55–64  65–74  75–84  85+\n",
       "logons_6_mnth                                                      \n",
       "1.0              224    651    600    649    568    159     39    5\n",
       "2.0              258    660    560    666    539    222     44   10\n",
       "3.0              554   2022   2101   2231   2128    937    186   41\n",
       "4.0              572   2092   1885   2157   2121   1079    238   38\n",
       "5.0              465   1795   1534   1841   2030   1272    244   49\n",
       "6.0              383   1505   1206   1487   1787   1202    240   44\n",
       "7.0              652   2040   1407   1799   2204   1422    290   51\n",
       "8.0              159    915    727    909   1126    758    194   21\n",
       "9.0              450   2872   1891   2047   2667   1873    485   65"
      ]
     },
     "execution_count": 76,
     "metadata": {},
     "output_type": "execute_result"
    }
   ],
   "source": [
    "# Generating a crosstab for 'logons_6_mnth' and 'age_group'\n",
    "crosstab_result = pd.crosstab(df_demo['logons_6_mnth'], df_demo['age_group'])\n",
    "\n",
    "crosstab_result"
   ]
  },
  {
   "cell_type": "code",
   "execution_count": 79,
   "id": "7e107f97-cf28-4bfa-b0bd-83fa5ac7eef9",
   "metadata": {},
   "outputs": [
    {
     "data": {
      "text/plain": [
       "(1362.6734809406023,\n",
       " 3.806558753053747e-248,\n",
       " array([[ 152.97274821,  598.88604572,  490.19596554,  567.36139543,\n",
       "          624.31977141,  367.26629137,   80.66359604,   13.33418628],\n",
       "        [ 156.35452917,  612.12566815,  501.03276754,  579.90409985,\n",
       "          638.12165927,  375.38547708,   82.44683271,   13.62896622],\n",
       "        [ 538.97134084, 2110.06482429, 1727.115319  , 1998.99351757,\n",
       "         2199.67587854, 1293.99522347,  284.20334357,   46.98055271],\n",
       "        [ 538.02021494, 2106.34118048, 1724.06746844, 1995.46588195,\n",
       "         2195.79409758, 1291.71170249,  283.70180826,   46.89764585],\n",
       "        [ 487.71622313, 1909.40179688, 1562.87003867, 1808.89315364,\n",
       "         1990.49101558, 1170.93881497,  257.17616286,   42.51279427],\n",
       "        [ 415.00793245, 1624.7499147 , 1329.87879563, 1539.22500853,\n",
       "         1693.75042648,  996.37632207,  218.83657455,   36.17502559],\n",
       "        [ 521.26983112, 2040.76367565, 1670.39143353, 1933.3402991 ,\n",
       "         2127.43162174, 1251.49636074,  274.86921415,   45.43756397],\n",
       "        [ 254.10913511,  994.83350392,  814.2840754 ,  942.46664961,\n",
       "         1037.08248038,  610.08068918,  133.99351757,   22.14994882],\n",
       "        [ 652.57804504, 2554.8333902 , 2091.16413624, 2420.34999431,\n",
       "         2663.33304902, 1566.74911862,  344.1089503 ,   56.88331627]]))"
      ]
     },
     "execution_count": 79,
     "metadata": {},
     "output_type": "execute_result"
    }
   ],
   "source": [
    "from scipy.stats import chi2_contingency\n",
    "\n",
    "# Chi-square test for 'logons_6_mnth' and 'age_group'\n",
    "chi2_statistic, chi2_p_value, _, expected_freq = chi2_contingency(crosstab_result)\n",
    "\n",
    "chi2_statistic, chi2_p_value, expected_freq"
   ]
  },
  {
   "cell_type": "code",
   "execution_count": 96,
   "id": "14f1e788-0c8f-49e0-a78c-7f695e6f080a",
   "metadata": {},
   "outputs": [],
   "source": [
    "import pandas as pd\n",
    "import matplotlib.pyplot as plt\n",
    "import seaborn as sns\n",
    "import numpy as np\n",
    "\n",
    "%matplotlib inline"
   ]
  },
  {
   "cell_type": "code",
   "execution_count": 82,
   "id": "0d9bcf84-ae5f-437e-a07b-4a64c2d34803",
   "metadata": {},
   "outputs": [
    {
     "data": {
      "text/plain": [
       "0.05260576638738564"
      ]
     },
     "execution_count": 82,
     "metadata": {},
     "output_type": "execute_result"
    }
   ],
   "source": [
    "from scipy.stats.contingency import association\n",
    "\n",
    "# Computing the association between variables in 'crosstab_result' using the \"cramer\" method\n",
    "association(crosstab_result, method=\"cramer\")"
   ]
  },
  {
   "cell_type": "code",
   "execution_count": 84,
   "id": "29a65bb3-50a7-40ba-95c7-4b84e3a859ff",
   "metadata": {},
   "outputs": [],
   "source": [
    "# P-value of the test is too small and also the value of cramer test"
   ]
  },
  {
   "cell_type": "code",
   "execution_count": 106,
   "id": "ddca7174-0cb8-44b9-9751-d804ec6ec397",
   "metadata": {},
   "outputs": [
    {
     "data": {
      "image/png": "[encoded data removed]",
      "text/plain": [
       "<Figure size 640x480 with 1 Axes>"
      ]
     },
     "metadata": {},
     "output_type": "display_data"
    }
   ],
   "source": [
    "df_filtered = df_demo[df_demo['logons_6_mnth'] > 7]\n",
    "\n",
    "# Plot grouped bar chart (count of age groups among users with >7 logins)\n",
    "sns.countplot(data=df_filtered, x='logons_6_mnth', hue='age_group')\n",
    "plt.xticks(rotation=45)\n",
    "plt.title('Logons (>7) by Age Group')\n",
    "plt.tight_layout()\n",
    "plt.show()"
   ]
  },
  {
   "cell_type": "code",
   "execution_count": 110,
   "id": "41f2ff1a-4066-46ec-8f1b-eba12cedb686",
   "metadata": {},
   "outputs": [
    {
     "data": {
      "text/html": [
       "<div>\n",
       "<style scoped>\n",
       "    .dataframe tbody tr th:only-of-type {\n",
       "        vertical-align: middle;\n",
       "    }\n",
       "\n",
       "    .dataframe tbody tr th {\n",
       "        vertical-align: top;\n",
       "    }\n",
       "\n",
       "    .dataframe thead th {\n",
       "        text-align: right;\n",
       "    }\n",
       "</style>\n",
       "<table border=\"1\" class=\"dataframe\">\n",
       "  <thead>\n",
       "    <tr style=\"text-align: right;\">\n",
       "      <th>gendr</th>\n",
       "      <th>female</th>\n",
       "      <th>male</th>\n",
       "      <th>unknown</th>\n",
       "    </tr>\n",
       "    <tr>\n",
       "      <th>logons_6_mnth</th>\n",
       "      <th></th>\n",
       "      <th></th>\n",
       "      <th></th>\n",
       "    </tr>\n",
       "  </thead>\n",
       "  <tbody>\n",
       "    <tr>\n",
       "      <th>1.0</th>\n",
       "      <td>1119</td>\n",
       "      <td>798</td>\n",
       "      <td>1021</td>\n",
       "    </tr>\n",
       "    <tr>\n",
       "      <th>2.0</th>\n",
       "      <td>1040</td>\n",
       "      <td>911</td>\n",
       "      <td>1058</td>\n",
       "    </tr>\n",
       "    <tr>\n",
       "      <th>3.0</th>\n",
       "      <td>3782</td>\n",
       "      <td>2885</td>\n",
       "      <td>3576</td>\n",
       "    </tr>\n",
       "    <tr>\n",
       "      <th>4.0</th>\n",
       "      <td>3536</td>\n",
       "      <td>3050</td>\n",
       "      <td>3634</td>\n",
       "    </tr>\n",
       "    <tr>\n",
       "      <th>5.0</th>\n",
       "      <td>3222</td>\n",
       "      <td>2852</td>\n",
       "      <td>3180</td>\n",
       "    </tr>\n",
       "    <tr>\n",
       "      <th>6.0</th>\n",
       "      <td>2585</td>\n",
       "      <td>2643</td>\n",
       "      <td>2650</td>\n",
       "    </tr>\n",
       "    <tr>\n",
       "      <th>7.0</th>\n",
       "      <td>2910</td>\n",
       "      <td>3667</td>\n",
       "      <td>3316</td>\n",
       "    </tr>\n",
       "    <tr>\n",
       "      <th>8.0</th>\n",
       "      <td>1386</td>\n",
       "      <td>1893</td>\n",
       "      <td>1531</td>\n",
       "    </tr>\n",
       "    <tr>\n",
       "      <th>9.0</th>\n",
       "      <td>3166</td>\n",
       "      <td>5025</td>\n",
       "      <td>4159</td>\n",
       "    </tr>\n",
       "  </tbody>\n",
       "</table>\n",
       "</div>"
      ],
      "text/plain": [
       "gendr          female  male  unknown\n",
       "logons_6_mnth                       \n",
       "1.0              1119   798     1021\n",
       "2.0              1040   911     1058\n",
       "3.0              3782  2885     3576\n",
       "4.0              3536  3050     3634\n",
       "5.0              3222  2852     3180\n",
       "6.0              2585  2643     2650\n",
       "7.0              2910  3667     3316\n",
       "8.0              1386  1893     1531\n",
       "9.0              3166  5025     4159"
      ]
     },
     "execution_count": 110,
     "metadata": {},
     "output_type": "execute_result"
    }
   ],
   "source": [
    "# Generating a crosstab for 'logons_6_mnth' and 'age_group'\n",
    "crosstab_result = pd.crosstab(df_demo['logons_6_mnth'], df_demo['gendr'])\n",
    "\n",
    "crosstab_result"
   ]
  },
  {
   "cell_type": "code",
   "execution_count": 112,
   "id": "2230b3fb-8ba8-43b1-badd-23c17bc163cc",
   "metadata": {},
   "outputs": [
    {
     "data": {
      "text/plain": [
       "(839.59395234399,\n",
       " 2.2419162253988025e-168,\n",
       " array([[ 946.63571074,  987.33780013, 1004.02648913],\n",
       "        [ 969.51220341, 1011.19790353, 1028.28989305],\n",
       "        [3300.33682272, 3442.23998867, 3500.42318861],\n",
       "        [3292.92612791, 3434.5106594 , 3492.56321269],\n",
       "        [2981.67694596, 3109.87882995, 3162.4442241 ],\n",
       "        [2538.32407394, 2647.46330477, 2692.21262129],\n",
       "        [3187.56537998, 3324.61976061, 3380.81485941],\n",
       "        [1549.80182732, 1616.43799136, 1643.76018132],\n",
       "        [3979.220908  , 4150.3137616 , 4220.46533041]]))"
      ]
     },
     "execution_count": 112,
     "metadata": {},
     "output_type": "execute_result"
    }
   ],
   "source": [
    "# Chi-square test for 'logons_6_mnth' and 'gendr'\n",
    "chi2_statistic, chi2_p_value, _, expected_freq = chi2_contingency(crosstab_result)\n",
    "\n",
    "chi2_statistic, chi2_p_value, expected_freq"
   ]
  },
  {
   "cell_type": "code",
   "execution_count": 114,
   "id": "79374768-57e6-4d33-8e0d-b8e5d47d9c19",
   "metadata": {},
   "outputs": [
    {
     "data": {
      "text/plain": [
       "0.07711390244966397"
      ]
     },
     "execution_count": 114,
     "metadata": {},
     "output_type": "execute_result"
    }
   ],
   "source": [
    "from scipy.stats.contingency import association\n",
    "\n",
    "# Computing the association between variables in 'crosstab_result' using the \"cramer\" method\n",
    "association(crosstab_result, method=\"cramer\")"
   ]
  },
  {
   "cell_type": "code",
   "execution_count": 108,
   "id": "1369543a-540a-4556-9fb0-0ce33f8c48d9",
   "metadata": {},
   "outputs": [
    {
     "data": {
      "image/png": "[encoded data removed]",
      "text/plain": [
       "<Figure size 640x480 with 1 Axes>"
      ]
     },
     "metadata": {},
     "output_type": "display_data"
    }
   ],
   "source": [
    "# Plot grouped bar chart (count of gendr groups among users with >7 logins)\n",
    "sns.countplot(data=df_filtered, x='logons_6_mnth', hue='gendr')\n",
    "plt.xticks(rotation=45)\n",
    "plt.title('Logons (>7) by gendr')\n",
    "plt.tight_layout()\n",
    "plt.show()"
   ]
  },
  {
   "cell_type": "code",
   "execution_count": null,
   "id": "f5144752-9fce-4392-bcfe-8385464280db",
   "metadata": {},
   "outputs": [],
   "source": []
  }
 ],
 "metadata": {
  "kernelspec": {
   "display_name": "Python [conda env:base] *",
   "language": "python",
   "name": "conda-base-py"
  },
  "language_info": {
   "codemirror_mode": {
    "name": "ipython",
    "version": 3
   },
   "file_extension": ".py",
   "mimetype": "text/x-python",
   "name": "python",
   "nbconvert_exporter": "python",
   "pygments_lexer": "ipython3",
   "version": "3.12.7"
  }
 },
 "nbformat": 4,
 "nbformat_minor": 5
}
