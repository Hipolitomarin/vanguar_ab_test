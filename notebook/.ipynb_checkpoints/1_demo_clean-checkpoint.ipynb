{
 "cells": [
  {
   "cell_type": "code",
   "execution_count": 1,
   "id": "f0481329-abbb-455f-a8f1-a4bcbf507ea0",
   "metadata": {},
   "outputs": [],
   "source": [
    "import pandas as pd\n"
   ]
  },
  {
   "cell_type": "code",
   "execution_count": 2,
   "id": "a0068a4a-cc25-4a1c-a15f-f701ceb56a74",
   "metadata": {},
   "outputs": [],
   "source": [
    "demo = pd.read_csv(\"df_final_demo.txt\", delimiter=\",\") "
   ]
  },
  {
   "cell_type": "code",
   "execution_count": 3,
   "id": "2450df37-0ddc-4740-a32d-a646de09dbbf",
   "metadata": {},
   "outputs": [
    {
     "data": {
      "text/html": [
       "<div>\n",
       "<style scoped>\n",
       "    .dataframe tbody tr th:only-of-type {\n",
       "        vertical-align: middle;\n",
       "    }\n",
       "\n",
       "    .dataframe tbody tr th {\n",
       "        vertical-align: top;\n",
       "    }\n",
       "\n",
       "    .dataframe thead th {\n",
       "        text-align: right;\n",
       "    }\n",
       "</style>\n",
       "<table border=\"1\" class=\"dataframe\">\n",
       "  <thead>\n",
       "    <tr style=\"text-align: right;\">\n",
       "      <th></th>\n",
       "      <th>client_id</th>\n",
       "      <th>clnt_tenure_yr</th>\n",
       "      <th>clnt_tenure_mnth</th>\n",
       "      <th>clnt_age</th>\n",
       "      <th>gendr</th>\n",
       "      <th>num_accts</th>\n",
       "      <th>bal</th>\n",
       "      <th>calls_6_mnth</th>\n",
       "      <th>logons_6_mnth</th>\n",
       "    </tr>\n",
       "  </thead>\n",
       "  <tbody>\n",
       "    <tr>\n",
       "      <th>0</th>\n",
       "      <td>836976</td>\n",
       "      <td>6.0</td>\n",
       "      <td>73.0</td>\n",
       "      <td>60.5</td>\n",
       "      <td>U</td>\n",
       "      <td>2.0</td>\n",
       "      <td>45105.30</td>\n",
       "      <td>6.0</td>\n",
       "      <td>9.0</td>\n",
       "    </tr>\n",
       "    <tr>\n",
       "      <th>1</th>\n",
       "      <td>2304905</td>\n",
       "      <td>7.0</td>\n",
       "      <td>94.0</td>\n",
       "      <td>58.0</td>\n",
       "      <td>U</td>\n",
       "      <td>2.0</td>\n",
       "      <td>110860.30</td>\n",
       "      <td>6.0</td>\n",
       "      <td>9.0</td>\n",
       "    </tr>\n",
       "    <tr>\n",
       "      <th>2</th>\n",
       "      <td>1439522</td>\n",
       "      <td>5.0</td>\n",
       "      <td>64.0</td>\n",
       "      <td>32.0</td>\n",
       "      <td>U</td>\n",
       "      <td>2.0</td>\n",
       "      <td>52467.79</td>\n",
       "      <td>6.0</td>\n",
       "      <td>9.0</td>\n",
       "    </tr>\n",
       "    <tr>\n",
       "      <th>3</th>\n",
       "      <td>1562045</td>\n",
       "      <td>16.0</td>\n",
       "      <td>198.0</td>\n",
       "      <td>49.0</td>\n",
       "      <td>M</td>\n",
       "      <td>2.0</td>\n",
       "      <td>67454.65</td>\n",
       "      <td>3.0</td>\n",
       "      <td>6.0</td>\n",
       "    </tr>\n",
       "    <tr>\n",
       "      <th>4</th>\n",
       "      <td>5126305</td>\n",
       "      <td>12.0</td>\n",
       "      <td>145.0</td>\n",
       "      <td>33.0</td>\n",
       "      <td>F</td>\n",
       "      <td>2.0</td>\n",
       "      <td>103671.75</td>\n",
       "      <td>0.0</td>\n",
       "      <td>3.0</td>\n",
       "    </tr>\n",
       "  </tbody>\n",
       "</table>\n",
       "</div>"
      ],
      "text/plain": [
       "   client_id  clnt_tenure_yr  clnt_tenure_mnth  clnt_age gendr  num_accts  \\\n",
       "0     836976             6.0              73.0      60.5     U        2.0   \n",
       "1    2304905             7.0              94.0      58.0     U        2.0   \n",
       "2    1439522             5.0              64.0      32.0     U        2.0   \n",
       "3    1562045            16.0             198.0      49.0     M        2.0   \n",
       "4    5126305            12.0             145.0      33.0     F        2.0   \n",
       "\n",
       "         bal  calls_6_mnth  logons_6_mnth  \n",
       "0   45105.30           6.0            9.0  \n",
       "1  110860.30           6.0            9.0  \n",
       "2   52467.79           6.0            9.0  \n",
       "3   67454.65           3.0            6.0  \n",
       "4  103671.75           0.0            3.0  "
      ]
     },
     "execution_count": 3,
     "metadata": {},
     "output_type": "execute_result"
    }
   ],
   "source": [
    "demo.head()"
   ]
  },
  {
   "cell_type": "code",
   "execution_count": 4,
   "id": "ad309994-28b5-4463-9cb4-68c495ce8986",
   "metadata": {},
   "outputs": [
    {
     "name": "stdout",
     "output_type": "stream",
     "text": [
      "(70609, 9)\n"
     ]
    }
   ],
   "source": [
    "print(demo.shape)"
   ]
  },
  {
   "cell_type": "markdown",
   "id": "6300522e-1c7f-43ca-a8ae-29129f3040e1",
   "metadata": {},
   "source": [
    "demo.columns = (\n",
    "    demo.columns.str.strip()\n",
    "    .str.lower()\n",
    "    .str.replace(\" \", \"_\")\n",
    "    .str.replace(\"-\", \"_\")\n",
    ")"
   ]
  },
  {
   "cell_type": "code",
   "execution_count": 5,
   "id": "2787e158-a076-4026-a279-5e6eab2f0297",
   "metadata": {},
   "outputs": [
    {
     "data": {
      "text/plain": [
       "client_id            0\n",
       "clnt_tenure_yr      14\n",
       "clnt_tenure_mnth    14\n",
       "clnt_age            15\n",
       "gendr               14\n",
       "num_accts           14\n",
       "bal                 14\n",
       "calls_6_mnth        14\n",
       "logons_6_mnth       14\n",
       "dtype: int64"
      ]
     },
     "execution_count": 5,
     "metadata": {},
     "output_type": "execute_result"
    }
   ],
   "source": [
    "demo.isnull().sum()"
   ]
  },
  {
   "cell_type": "code",
   "execution_count": 14,
   "id": "872f291c-0c79-4570-8bed-719bbc7a30e1",
   "metadata": {},
   "outputs": [
    {
     "name": "stdout",
     "output_type": "stream",
     "text": [
      "Duplicates clients: 0\n"
     ]
    }
   ],
   "source": [
    "#Check duplicates client_id   --------------------------   CLIENT_ID -------------------------\n",
    "duplicated = demo['client_id'].duplicated().sum()\n",
    "print(f\"Duplicates clients: {duplicated}\")"
   ]
  },
  {
   "cell_type": "code",
   "execution_count": 15,
   "id": "5f379ad7-7c5c-4922-8db2-d995ff2c9cbc",
   "metadata": {},
   "outputs": [],
   "source": [
    "#Cleaning the clnt_tenure_yr column ----------------------- clnt_tenure_yr--------------------\n",
    "\n",
    "# Convert to integers and correct out-of-range values (0–50)\n",
    "demo['clnt_tenure_yr'] = demo['clnt_tenure_yr'].round().astype('Int64')\n",
    "demo.loc[~demo['clnt_tenure_yr'].between(0, 50), 'clnt_tenure_yr'] = pd.NA"
   ]
  },
  {
   "cell_type": "code",
   "execution_count": 16,
   "id": "bdc58886-26a7-45c4-a980-edf8e4b3db6f",
   "metadata": {},
   "outputs": [
    {
     "data": {
      "text/plain": [
       "np.int64(50)"
      ]
     },
     "execution_count": 16,
     "metadata": {},
     "output_type": "execute_result"
    }
   ],
   "source": [
    "demo['clnt_tenure_yr'].max()"
   ]
  },
  {
   "cell_type": "code",
   "execution_count": 18,
   "id": "2225e001-3f61-4f69-b5e3-ffe7f5b917a7",
   "metadata": {},
   "outputs": [],
   "source": [
    "#Cleaing the clnt_tenure_mnth column ----------------------------clnt_tenure_mnth-----------------------------------------\n",
    "\n",
    "# Round and convert to integers\n",
    "demo['clnt_tenure_mnth'] = demo['clnt_tenure_mnth'].round().astype('Int64')\n",
    "\n",
    "# If there are months >= 12, convert the excess to years\n",
    "overflow = demo['clnt_tenure_mnth'] // 12\n",
    "demo['clnt_tenure_yr'] += overflow\n",
    "demo['clnt_tenure_mnth'] = demo['clnt_tenure_mnth'] % 12"
   ]
  },
  {
   "cell_type": "code",
   "execution_count": 20,
   "id": "7c49d77d-7964-48e3-a6db-6d6583a1aff3",
   "metadata": {},
   "outputs": [],
   "source": [
    "#Cleaning the clnt_age column -------------------------------clnt_age------------------------------------\n",
    "\n",
    "# Fill the single null with the median\n",
    "median_age = demo['clnt_age'].median()\n",
    "demo['clnt_age'] = demo['clnt_age'].fillna(median_age).round().astype('Int64')\n",
    "\n",
    "# Nullify ages outside of 18–100\n",
    "demo.loc[~demo['clnt_age'].between(18, 100), 'clnt_age'] = pd.NA"
   ]
  },
  {
   "cell_type": "code",
   "execution_count": 22,
   "id": "3371f34b-4cff-40d9-abd8-cb5a6f1831a5",
   "metadata": {},
   "outputs": [],
   "source": [
    "#Cleaning the gender column --------------------------------------gendr-----------------------------------------\n",
    "#use dictionary for map\n",
    "map_gender = {\n",
    "    'm': 'male',\n",
    "    'male': 'male',\n",
    "    'f': 'female',\n",
    "    'female': 'female'\n",
    "}\n",
    "#convert to object and nulls are unknow:\n",
    "demo['gendr'] = (\n",
    "    demo['gendr']\n",
    "        .astype(str)\n",
    "        .str.strip()\n",
    "        .str.lower()\n",
    "        .map(map_gender)\n",
    "        .fillna('unknown')\n",
    ")"
   ]
  },
  {
   "cell_type": "code",
   "execution_count": 23,
   "id": "a667f0ba-0f90-4a98-84c8-89603e7cd828",
   "metadata": {},
   "outputs": [
    {
     "name": "stdout",
     "output_type": "stream",
     "text": [
      "       client_id  clnt_tenure_yr  clnt_tenure_mnth  clnt_age    gendr  \\\n",
      "0         836976              12                 1        60  unknown   \n",
      "1        2304905              14                10        58  unknown   \n",
      "2        1439522              10                 4        32  unknown   \n",
      "3        1562045              32                 6        49     male   \n",
      "4        5126305              24                 1        33   female   \n",
      "...          ...             ...               ...       ...      ...   \n",
      "70604    7993686               8                 8        38  unknown   \n",
      "70605    8981690              24                 4        31     male   \n",
      "70606     333913              32                 6        62   female   \n",
      "70607    1573142              42                 3        68     male   \n",
      "70608    5602139              42                 2        60   female   \n",
      "\n",
      "       num_accts         bal  calls_6_mnth  logons_6_mnth  \n",
      "0            2.0    45105.30           6.0            9.0  \n",
      "1            2.0   110860.30           6.0            9.0  \n",
      "2            2.0    52467.79           6.0            9.0  \n",
      "3            2.0    67454.65           3.0            6.0  \n",
      "4            2.0   103671.75           0.0            3.0  \n",
      "...          ...         ...           ...            ...  \n",
      "70604        3.0  1411062.68           5.0            5.0  \n",
      "70605        2.0   101867.07           6.0            6.0  \n",
      "70606        2.0    40745.00           3.0            3.0  \n",
      "70607        3.0   475114.69           4.0            4.0  \n",
      "70608        3.0   157498.73           7.0            7.0  \n",
      "\n",
      "[70609 rows x 9 columns]\n"
     ]
    }
   ],
   "source": [
    "print(demo)"
   ]
  },
  {
   "cell_type": "code",
   "execution_count": 24,
   "id": "14478d04-9749-471a-a76d-33cc1e63922f",
   "metadata": {},
   "outputs": [],
   "source": [
    "## The data look very clean. We need only to change the datatype of columns: num_accts, calls_6_mnth, logons_6_mnth\n",
    "import numpy as np\n",
    "demo[\"num_accts\"] = demo[\"num_accts\"].fillna(0).astype(int)\n",
    "demo['num_accts'] = demo['num_accts'].apply(np.int64)\n",
    "demo[\"calls_6_mnth\"] = demo[\"calls_6_mnth\"].fillna(0).astype(int)\n",
    "demo['calls_6_mnth'] = demo['calls_6_mnth'].apply(np.int64)\n",
    "demo[\"logons_6_mnth\"] = demo[\"logons_6_mnth\"].fillna(0).astype(int)\n",
    "demo['logons_6_mnth'] = demo['logons_6_mnth'].apply(np.int64)"
   ]
  },
  {
   "cell_type": "code",
   "execution_count": 25,
   "id": "b847c2bb-6a86-40b0-9bec-252f4be4529d",
   "metadata": {},
   "outputs": [
    {
     "name": "stdout",
     "output_type": "stream",
     "text": [
      "       client_id  clnt_tenure_yr  clnt_tenure_mnth  clnt_age    gendr  \\\n",
      "0         836976              12                 1        60  unknown   \n",
      "1        2304905              14                10        58  unknown   \n",
      "2        1439522              10                 4        32  unknown   \n",
      "3        1562045              32                 6        49     male   \n",
      "4        5126305              24                 1        33   female   \n",
      "...          ...             ...               ...       ...      ...   \n",
      "70604    7993686               8                 8        38  unknown   \n",
      "70605    8981690              24                 4        31     male   \n",
      "70606     333913              32                 6        62   female   \n",
      "70607    1573142              42                 3        68     male   \n",
      "70608    5602139              42                 2        60   female   \n",
      "\n",
      "       num_accts         bal  calls_6_mnth  logons_6_mnth  \n",
      "0              2    45105.30             6              9  \n",
      "1              2   110860.30             6              9  \n",
      "2              2    52467.79             6              9  \n",
      "3              2    67454.65             3              6  \n",
      "4              2   103671.75             0              3  \n",
      "...          ...         ...           ...            ...  \n",
      "70604          3  1411062.68             5              5  \n",
      "70605          2   101867.07             6              6  \n",
      "70606          2    40745.00             3              3  \n",
      "70607          3   475114.69             4              4  \n",
      "70608          3   157498.73             7              7  \n",
      "\n",
      "[70609 rows x 9 columns]\n"
     ]
    }
   ],
   "source": [
    "print(demo)"
   ]
  },
  {
   "cell_type": "code",
   "execution_count": 30,
   "id": "9894f9ed-0716-454b-8e53-1cea78c621c7",
   "metadata": {},
   "outputs": [
    {
     "name": "stdout",
     "output_type": "stream",
     "text": [
      "✔️ Archivo guardado en data/interim/demo_clean.csv\n"
     ]
    }
   ],
   "source": [
    "from pathlib import Path\n",
    "\n",
    "\n",
    "Path(\"data/interim\").mkdir(parents=True, exist_ok=True)\n",
    "\n",
    "demo.to_csv(\"data/interim/demo_clean.csv\", index=False)\n",
    "\n",
    "print(\"✔️ Archivo guardado en data/interim/demo_clean.csv\")"
   ]
  },
  {
   "cell_type": "code",
   "execution_count": null,
   "id": "6701d622-bb77-4b43-a522-28423d5770ba",
   "metadata": {},
   "outputs": [],
   "source": []
  }
 ],
 "metadata": {
  "kernelspec": {
   "display_name": "Python 3 (ipykernel)",
   "language": "python",
   "name": "python3"
  },
  "language_info": {
   "codemirror_mode": {
    "name": "ipython",
    "version": 3
   },
   "file_extension": ".py",
   "mimetype": "text/x-python",
   "name": "python",
   "nbconvert_exporter": "python",
   "pygments_lexer": "ipython3",
   "version": "3.13.1"
  }
 },
 "nbformat": 4,
 "nbformat_minor": 5
}
