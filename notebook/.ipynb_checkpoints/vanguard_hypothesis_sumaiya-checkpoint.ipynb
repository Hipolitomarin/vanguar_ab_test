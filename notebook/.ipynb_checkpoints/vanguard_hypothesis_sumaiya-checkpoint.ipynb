{
 "cells": [
  {
   "cell_type": "code",
   "execution_count": null,
   "id": "6db3472a-03a1-4a93-a87f-9455d2af325a",
   "metadata": {},
   "outputs": [],
   "source": [
    "import pandas as pd\n",
    "import matplotlib.pyplot as plt\n",
    "import seaborn as sns\n",
    "import numpy as np\n",
    "%matplotlib inline\n",
    "\n",
    "# Importing libraries\n",
    "import pandas as pd\n",
    "import numpy as np\n",
    "import seaborn as sns\n",
    "import matplotlib.pyplot as plt\n",
    "import plotly.express as px\n",
    "import scipy as sp\n",
    "import plotly.graph_objects as go\n",
    "from plotly.subplots import make_subplots\n",
    "from scipy.stats import ttest_ind\n",
    "from scipy import stats\n",
    "from scipy.stats import boxcox\n",
    "from scipy.stats import pearsonr\n",
    "import scipy.stats as st"
   ]
  },
  {
   "cell_type": "code",
   "execution_count": null,
   "id": "16c19ede-6315-4256-ba3a-8e8b2cf5b883",
   "metadata": {},
   "outputs": [],
   "source": [
    "df_demo = pd.read_csv('../Data/clean/demo_clean.csv')\n",
    "df_digital = pd.read_csv('../Data/clean/digital_footprints.csv')\n",
    "df_experiment = pd.read_csv('../Data/clean/clean_final_experiment.csv')"
   ]
  },
  {
   "cell_type": "code",
   "execution_count": null,
   "id": "6e982c59-ff25-4362-92dc-8ad7e895f4c4",
   "metadata": {},
   "outputs": [],
   "source": [
    "# Using concat to combine df_digital, df_demo, and df_experiment\n",
    "\n",
    "df = pd.concat([df_digital, df_demo, df_experiment], axis=1, join='inner')\n",
    "\n",
    "df.head()"
   ]
  },
  {
   "cell_type": "code",
   "execution_count": null,
   "id": "4ddfcce0-2f6a-4c14-a17a-a30028f26dc1",
   "metadata": {},
   "outputs": [],
   "source": [
    "\n",
    "\n",
    "# Convert the 'date_time' column to datetime \n",
    "df['date_time'] = pd.to_datetime(df['date_time'])\n",
    "\n",
    "# Sort the DataFrame by date_time to ensure chronological order\n",
    "df = df.sort_values('date_time')\n",
    "\n",
    "# Calculate the time differences between consecutive steps\n",
    "df['duration_between_steps'] = df['date_time'].diff()\n",
    "\n",
    "\n",
    "df = df.sort_values(['process_step', 'date_time'])\n",
    "df['duration_between_steps'] = df.groupby('process_step')['date_time'].diff()\n",
    "\n",
    "# Option 1: Specify that day comes first\n",
    "df['date_time'] = pd.to_datetime(df['date_time'], dayfirst=True)\n",
    "\n",
    "# Option 2: Explicitly define the format (more reliable)\n",
    "#df['date_time'] = pd.to_datetime(df['date_time'], format='%d/%m/%Y %H:%M')\n",
    "\n",
    "print(df)"
   ]
  },
  {
   "cell_type": "code",
   "execution_count": null,
   "id": "d9df8234-5c44-4b66-99fa-db05b20a4491",
   "metadata": {},
   "outputs": [],
   "source": [
    "import pandas as pd\n",
    "\n",
    "\n",
    "df = pd.DataFrame(df)\n",
    "\n",
    "df['date_time'] = pd.to_datetime(df['date_time'])\n",
    "df = df.sort_values(['process_step', 'date_time'])\n",
    "df['duration_between_steps'] = df.groupby('process_step')['date_time'].diff()\n",
    "\n",
    "print(df)"
   ]
  },
  {
   "cell_type": "code",
   "execution_count": null,
   "id": "d09e83ba-058b-4158-a949-3527aeee1172",
   "metadata": {},
   "outputs": [],
   "source": [
    "import pandas as pd\n",
    "\n",
    "\n",
    "# Create DataFrame\n",
    "df = pd.DataFrame(df)\n",
    "\n",
    "# Convert to datetime\n",
    "df['date_time'] = pd.to_datetime(df['date_time'])\n",
    "\n",
    "# Sort by process and time\n",
    "df = df.sort_values(['process_step', 'date_time'])\n",
    "\n",
    "# Calculate duration between steps within each process\n",
    "df['duration_between_steps'] = df.groupby('process_step')['date_time'].diff()\n",
    "\n",
    "# Optional: Convert duration to minutes (or hours)\n",
    "df['duration_minutes'] = df['duration_between_steps'].dt.total_seconds() / 60\n",
    "\n",
    "print(df)"
   ]
  },
  {
   "cell_type": "code",
   "execution_count": null,
   "id": "30e89442-656b-4faf-86a4-2b7ea173f4c0",
   "metadata": {},
   "outputs": [],
   "source": [
    "df = df.dropna(subset=['duration_between_steps'])\n",
    "df"
   ]
  },
  {
   "cell_type": "code",
   "execution_count": null,
   "id": "027f96c3-6386-4b81-8928-372cb0c03ec5",
   "metadata": {},
   "outputs": [],
   "source": []
  }
 ],
 "metadata": {
  "kernelspec": {
   "display_name": "Python [conda env:base] *",
   "language": "python",
   "name": "conda-base-py"
  },
  "language_info": {
   "codemirror_mode": {
    "name": "ipython",
    "version": 3
   },
   "file_extension": ".py",
   "mimetype": "text/x-python",
   "name": "python",
   "nbconvert_exporter": "python",
   "pygments_lexer": "ipython3",
   "version": "3.13.2"
  }
 },
 "nbformat": 4,
 "nbformat_minor": 5
}
