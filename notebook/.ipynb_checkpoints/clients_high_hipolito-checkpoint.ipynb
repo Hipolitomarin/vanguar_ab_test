{
 "cells": [
  {
   "cell_type": "code",
   "execution_count": 2,
   "id": "943a986a-05cd-4c63-b9b4-1e8182666edd",
   "metadata": {},
   "outputs": [],
   "source": [
    "import pandas as pd\n",
    "demo = pd.read_csv(\"demo_clean.csv\") "
   ]
  },
  {
   "cell_type": "code",
   "execution_count": 3,
   "id": "27586982-9b38-4cf5-a7fc-c82fd4ec055c",
   "metadata": {},
   "outputs": [
    {
     "data": {
      "text/html": [
       "<div>\n",
       "<style scoped>\n",
       "    .dataframe tbody tr th:only-of-type {\n",
       "        vertical-align: middle;\n",
       "    }\n",
       "\n",
       "    .dataframe tbody tr th {\n",
       "        vertical-align: top;\n",
       "    }\n",
       "\n",
       "    .dataframe thead th {\n",
       "        text-align: right;\n",
       "    }\n",
       "</style>\n",
       "<table border=\"1\" class=\"dataframe\">\n",
       "  <thead>\n",
       "    <tr style=\"text-align: right;\">\n",
       "      <th></th>\n",
       "      <th>client_id</th>\n",
       "      <th>clnt_tenure_yr</th>\n",
       "      <th>clnt_tenure_mnth</th>\n",
       "      <th>clnt_age</th>\n",
       "      <th>gendr</th>\n",
       "      <th>num_accts</th>\n",
       "      <th>bal</th>\n",
       "      <th>calls_6_mnth</th>\n",
       "      <th>logons_6_mnth</th>\n",
       "    </tr>\n",
       "  </thead>\n",
       "  <tbody>\n",
       "    <tr>\n",
       "      <th>0</th>\n",
       "      <td>836976</td>\n",
       "      <td>12.0</td>\n",
       "      <td>1.0</td>\n",
       "      <td>60.0</td>\n",
       "      <td>unknown</td>\n",
       "      <td>2</td>\n",
       "      <td>45105.30</td>\n",
       "      <td>6</td>\n",
       "      <td>9</td>\n",
       "    </tr>\n",
       "    <tr>\n",
       "      <th>1</th>\n",
       "      <td>2304905</td>\n",
       "      <td>14.0</td>\n",
       "      <td>10.0</td>\n",
       "      <td>58.0</td>\n",
       "      <td>unknown</td>\n",
       "      <td>2</td>\n",
       "      <td>110860.30</td>\n",
       "      <td>6</td>\n",
       "      <td>9</td>\n",
       "    </tr>\n",
       "    <tr>\n",
       "      <th>2</th>\n",
       "      <td>1439522</td>\n",
       "      <td>10.0</td>\n",
       "      <td>4.0</td>\n",
       "      <td>32.0</td>\n",
       "      <td>unknown</td>\n",
       "      <td>2</td>\n",
       "      <td>52467.79</td>\n",
       "      <td>6</td>\n",
       "      <td>9</td>\n",
       "    </tr>\n",
       "    <tr>\n",
       "      <th>3</th>\n",
       "      <td>1562045</td>\n",
       "      <td>32.0</td>\n",
       "      <td>6.0</td>\n",
       "      <td>49.0</td>\n",
       "      <td>male</td>\n",
       "      <td>2</td>\n",
       "      <td>67454.65</td>\n",
       "      <td>3</td>\n",
       "      <td>6</td>\n",
       "    </tr>\n",
       "    <tr>\n",
       "      <th>4</th>\n",
       "      <td>5126305</td>\n",
       "      <td>24.0</td>\n",
       "      <td>1.0</td>\n",
       "      <td>33.0</td>\n",
       "      <td>female</td>\n",
       "      <td>2</td>\n",
       "      <td>103671.75</td>\n",
       "      <td>0</td>\n",
       "      <td>3</td>\n",
       "    </tr>\n",
       "  </tbody>\n",
       "</table>\n",
       "</div>"
      ],
      "text/plain": [
       "   client_id  clnt_tenure_yr  clnt_tenure_mnth  clnt_age    gendr  num_accts  \\\n",
       "0     836976            12.0               1.0      60.0  unknown          2   \n",
       "1    2304905            14.0              10.0      58.0  unknown          2   \n",
       "2    1439522            10.0               4.0      32.0  unknown          2   \n",
       "3    1562045            32.0               6.0      49.0     male          2   \n",
       "4    5126305            24.0               1.0      33.0   female          2   \n",
       "\n",
       "         bal  calls_6_mnth  logons_6_mnth  \n",
       "0   45105.30             6              9  \n",
       "1  110860.30             6              9  \n",
       "2   52467.79             6              9  \n",
       "3   67454.65             3              6  \n",
       "4  103671.75             0              3  "
      ]
     },
     "execution_count": 3,
     "metadata": {},
     "output_type": "execute_result"
    }
   ],
   "source": [
    "demo.head()"
   ]
  },
  {
   "cell_type": "code",
   "execution_count": 4,
   "id": "cb574df3-054f-4252-a6bd-dfc915344b47",
   "metadata": {},
   "outputs": [
    {
     "name": "stdout",
     "output_type": "stream",
     "text": [
      "(70595, 9)\n"
     ]
    }
   ],
   "source": [
    "demo = demo.dropna(subset=['bal'])\n",
    "demo.isnull().sum()\n",
    "print(demo.shape)"
   ]
  },
  {
   "cell_type": "code",
   "execution_count": 7,
   "id": "90e8b38c-1137-4cf4-8bc0-93050ac9b27f",
   "metadata": {},
   "outputs": [
    {
     "name": "stdout",
     "output_type": "stream",
     "text": [
      "rows: 70,595  |  Columns: 9\n",
      "<class 'pandas.core.frame.DataFrame'>\n",
      "Index: 70595 entries, 0 to 70608\n",
      "Data columns (total 9 columns):\n",
      " #   Column            Non-Null Count  Dtype  \n",
      "---  ------            --------------  -----  \n",
      " 0   client_id         70595 non-null  int64  \n",
      " 1   clnt_tenure_yr    70577 non-null  float64\n",
      " 2   clnt_tenure_mnth  70595 non-null  float64\n",
      " 3   clnt_age          70344 non-null  float64\n",
      " 4   gendr             70595 non-null  object \n",
      " 5   num_accts         70595 non-null  int64  \n",
      " 6   bal               70595 non-null  float64\n",
      " 7   calls_6_mnth      70595 non-null  int64  \n",
      " 8   logons_6_mnth     70595 non-null  int64  \n",
      "dtypes: float64(4), int64(4), object(1)\n",
      "memory usage: 5.4+ MB\n"
     ]
    },
    {
     "data": {
      "text/html": [
       "<div>\n",
       "<style scoped>\n",
       "    .dataframe tbody tr th:only-of-type {\n",
       "        vertical-align: middle;\n",
       "    }\n",
       "\n",
       "    .dataframe tbody tr th {\n",
       "        vertical-align: top;\n",
       "    }\n",
       "\n",
       "    .dataframe thead th {\n",
       "        text-align: right;\n",
       "    }\n",
       "</style>\n",
       "<table border=\"1\" class=\"dataframe\">\n",
       "  <thead>\n",
       "    <tr style=\"text-align: right;\">\n",
       "      <th></th>\n",
       "      <th>client_id</th>\n",
       "      <th>clnt_tenure_yr</th>\n",
       "      <th>clnt_tenure_mnth</th>\n",
       "      <th>clnt_age</th>\n",
       "      <th>num_accts</th>\n",
       "      <th>bal</th>\n",
       "      <th>calls_6_mnth</th>\n",
       "      <th>logons_6_mnth</th>\n",
       "    </tr>\n",
       "  </thead>\n",
       "  <tbody>\n",
       "    <tr>\n",
       "      <th>count</th>\n",
       "      <td>7.059500e+04</td>\n",
       "      <td>70577.000000</td>\n",
       "      <td>70595.000000</td>\n",
       "      <td>70344.000000</td>\n",
       "      <td>70595.000000</td>\n",
       "      <td>7.059500e+04</td>\n",
       "      <td>70595.000000</td>\n",
       "      <td>70595.000000</td>\n",
       "    </tr>\n",
       "    <tr>\n",
       "      <th>mean</th>\n",
       "      <td>5.005021e+06</td>\n",
       "      <td>24.085212</td>\n",
       "      <td>6.016148</td>\n",
       "      <td>46.554632</td>\n",
       "      <td>2.255528</td>\n",
       "      <td>1.474452e+05</td>\n",
       "      <td>3.382478</td>\n",
       "      <td>5.566740</td>\n",
       "    </tr>\n",
       "    <tr>\n",
       "      <th>std</th>\n",
       "      <td>2.877269e+06</td>\n",
       "      <td>13.680023</td>\n",
       "      <td>3.814440</td>\n",
       "      <td>15.515624</td>\n",
       "      <td>0.534997</td>\n",
       "      <td>3.015087e+05</td>\n",
       "      <td>2.236580</td>\n",
       "      <td>2.353286</td>\n",
       "    </tr>\n",
       "    <tr>\n",
       "      <th>min</th>\n",
       "      <td>1.690000e+02</td>\n",
       "      <td>4.000000</td>\n",
       "      <td>0.000000</td>\n",
       "      <td>18.000000</td>\n",
       "      <td>1.000000</td>\n",
       "      <td>1.378942e+04</td>\n",
       "      <td>0.000000</td>\n",
       "      <td>1.000000</td>\n",
       "    </tr>\n",
       "    <tr>\n",
       "      <th>25%</th>\n",
       "      <td>2.519604e+06</td>\n",
       "      <td>12.000000</td>\n",
       "      <td>2.000000</td>\n",
       "      <td>32.000000</td>\n",
       "      <td>2.000000</td>\n",
       "      <td>3.734683e+04</td>\n",
       "      <td>1.000000</td>\n",
       "      <td>4.000000</td>\n",
       "    </tr>\n",
       "    <tr>\n",
       "      <th>50%</th>\n",
       "      <td>5.016969e+06</td>\n",
       "      <td>22.000000</td>\n",
       "      <td>6.000000</td>\n",
       "      <td>47.000000</td>\n",
       "      <td>2.000000</td>\n",
       "      <td>6.333290e+04</td>\n",
       "      <td>3.000000</td>\n",
       "      <td>5.000000</td>\n",
       "    </tr>\n",
       "    <tr>\n",
       "      <th>75%</th>\n",
       "      <td>7.483064e+06</td>\n",
       "      <td>32.000000</td>\n",
       "      <td>10.000000</td>\n",
       "      <td>59.000000</td>\n",
       "      <td>2.000000</td>\n",
       "      <td>1.375449e+05</td>\n",
       "      <td>6.000000</td>\n",
       "      <td>7.000000</td>\n",
       "    </tr>\n",
       "    <tr>\n",
       "      <th>max</th>\n",
       "      <td>9.999839e+06</td>\n",
       "      <td>100.000000</td>\n",
       "      <td>11.000000</td>\n",
       "      <td>96.000000</td>\n",
       "      <td>8.000000</td>\n",
       "      <td>1.632004e+07</td>\n",
       "      <td>7.000000</td>\n",
       "      <td>9.000000</td>\n",
       "    </tr>\n",
       "  </tbody>\n",
       "</table>\n",
       "</div>"
      ],
      "text/plain": [
       "          client_id  clnt_tenure_yr  clnt_tenure_mnth      clnt_age  \\\n",
       "count  7.059500e+04    70577.000000      70595.000000  70344.000000   \n",
       "mean   5.005021e+06       24.085212          6.016148     46.554632   \n",
       "std    2.877269e+06       13.680023          3.814440     15.515624   \n",
       "min    1.690000e+02        4.000000          0.000000     18.000000   \n",
       "25%    2.519604e+06       12.000000          2.000000     32.000000   \n",
       "50%    5.016969e+06       22.000000          6.000000     47.000000   \n",
       "75%    7.483064e+06       32.000000         10.000000     59.000000   \n",
       "max    9.999839e+06      100.000000         11.000000     96.000000   \n",
       "\n",
       "          num_accts           bal  calls_6_mnth  logons_6_mnth  \n",
       "count  70595.000000  7.059500e+04  70595.000000   70595.000000  \n",
       "mean       2.255528  1.474452e+05      3.382478       5.566740  \n",
       "std        0.534997  3.015087e+05      2.236580       2.353286  \n",
       "min        1.000000  1.378942e+04      0.000000       1.000000  \n",
       "25%        2.000000  3.734683e+04      1.000000       4.000000  \n",
       "50%        2.000000  6.333290e+04      3.000000       5.000000  \n",
       "75%        2.000000  1.375449e+05      6.000000       7.000000  \n",
       "max        8.000000  1.632004e+07      7.000000       9.000000  "
      ]
     },
     "execution_count": 7,
     "metadata": {},
     "output_type": "execute_result"
    }
   ],
   "source": [
    "print(f\"rows: {demo.shape[0]:,}  |  Columns: {demo.shape[1]}\")\n",
    "demo.info()         \n",
    "demo.describe()"
   ]
  },
  {
   "cell_type": "code",
   "execution_count": 9,
   "id": "e3fa0ea7-f59f-424e-afa2-2e5358fb7170",
   "metadata": {},
   "outputs": [
    {
     "data": {
      "text/plain": [
       "online_usage\n",
       "moderate    35664\n",
       "high        34931\n",
       "none            0\n",
       "Name: count, dtype: int64"
      ]
     },
     "execution_count": 9,
     "metadata": {},
     "output_type": "execute_result"
    }
   ],
   "source": [
    "#Create online usage bands\n",
    "demo['online_usage'] = pd.cut(\n",
    "    demo['logons_6_mnth'],\n",
    "    bins=[-0.1, 0, 5, float('inf')],\n",
    "    labels=['none', 'moderate', 'high']\n",
    ")\n",
    "\n",
    "demo['online_usage'].value_counts(dropna=False)"
   ]
  },
  {
   "cell_type": "code",
   "execution_count": 11,
   "id": "4443e0c4-07d3-4941-a537-0f567c2c7f21",
   "metadata": {},
   "outputs": [
    {
     "name": "stderr",
     "output_type": "stream",
     "text": [
      "C:\\Users\\Usuario\\AppData\\Local\\Temp\\ipykernel_19628\\736839701.py:4: FutureWarning: The default of observed=False is deprecated and will be changed to True in a future version of pandas. Pass observed=False to retain current behavior or observed=True to adopt the future default and silence this warning.\n",
      "  demo.groupby('online_usage')\n"
     ]
    },
    {
     "data": {
      "text/html": [
       "<div>\n",
       "<style scoped>\n",
       "    .dataframe tbody tr th:only-of-type {\n",
       "        vertical-align: middle;\n",
       "    }\n",
       "\n",
       "    .dataframe tbody tr th {\n",
       "        vertical-align: top;\n",
       "    }\n",
       "\n",
       "    .dataframe thead th {\n",
       "        text-align: right;\n",
       "    }\n",
       "</style>\n",
       "<table border=\"1\" class=\"dataframe\">\n",
       "  <thead>\n",
       "    <tr style=\"text-align: right;\">\n",
       "      <th></th>\n",
       "      <th>avg_age</th>\n",
       "      <th>median_age</th>\n",
       "      <th>avg_tenure_yr</th>\n",
       "      <th>median_tenure_yr</th>\n",
       "      <th>n_clients</th>\n",
       "    </tr>\n",
       "    <tr>\n",
       "      <th>online_usage</th>\n",
       "      <th></th>\n",
       "      <th></th>\n",
       "      <th></th>\n",
       "      <th></th>\n",
       "      <th></th>\n",
       "    </tr>\n",
       "  </thead>\n",
       "  <tbody>\n",
       "    <tr>\n",
       "      <th>none</th>\n",
       "      <td>NaN</td>\n",
       "      <td>NaN</td>\n",
       "      <td>NaN</td>\n",
       "      <td>NaN</td>\n",
       "      <td>0</td>\n",
       "    </tr>\n",
       "    <tr>\n",
       "      <th>moderate</th>\n",
       "      <td>45.52</td>\n",
       "      <td>46.0</td>\n",
       "      <td>23.41</td>\n",
       "      <td>22.0</td>\n",
       "      <td>35664</td>\n",
       "    </tr>\n",
       "    <tr>\n",
       "      <th>high</th>\n",
       "      <td>47.61</td>\n",
       "      <td>49.0</td>\n",
       "      <td>24.77</td>\n",
       "      <td>22.0</td>\n",
       "      <td>34931</td>\n",
       "    </tr>\n",
       "  </tbody>\n",
       "</table>\n",
       "</div>"
      ],
      "text/plain": [
       "              avg_age  median_age  avg_tenure_yr  median_tenure_yr  n_clients\n",
       "online_usage                                                                 \n",
       "none              NaN         NaN            NaN               NaN          0\n",
       "moderate        45.52        46.0          23.41              22.0      35664\n",
       "high            47.61        49.0          24.77              22.0      34931"
      ]
     },
     "execution_count": 11,
     "metadata": {},
     "output_type": "execute_result"
    }
   ],
   "source": [
    "#Resume from bands\n",
    "\n",
    "summary = (\n",
    "    demo.groupby('online_usage')\n",
    "        .agg(\n",
    "            avg_age=('clnt_age', 'mean'),\n",
    "            median_age=('clnt_age', 'median'),\n",
    "            avg_tenure_yr=('clnt_tenure_yr', 'mean'),\n",
    "            median_tenure_yr=('clnt_tenure_yr', 'median'),\n",
    "            n_clients=('client_id', 'count')\n",
    "        )\n",
    "        .round(2)\n",
    ")\n",
    "\n",
    "summary"
   ]
  },
  {
   "cell_type": "code",
   "execution_count": 16,
   "id": "55e30ade-0472-4229-919a-dbdf5eca8322",
   "metadata": {},
   "outputs": [
    {
     "name": "stderr",
     "output_type": "stream",
     "text": [
      "C:\\Users\\Usuario\\AppData\\Local\\Temp\\ipykernel_19628\\1738441141.py:8: FutureWarning: The default of observed=False is deprecated and will be changed to True in a future version of pandas. Pass observed=False to retain current behavior or observed=True to adopt the future default and silence this warning.\n",
      "  demo.groupby('age_group')['online_usage']\n"
     ]
    },
    {
     "data": {
      "image/png": "[encoded data removed]",
      "text/plain": [
       "<Figure size 640x480 with 1 Axes>"
      ]
     },
     "metadata": {},
     "output_type": "display_data"
    }
   ],
   "source": [
    "#Graficts group by age\n",
    "import matplotlib.pyplot as plt\n",
    "demo['age_group'] = pd.cut(demo['clnt_age'],\n",
    "                           bins=[0, 34, 50, 100],\n",
    "                           labels=['<35', '35-50', '50+'])\n",
    "\n",
    "age_usage = (\n",
    "    demo.groupby('age_group')['online_usage']\n",
    "        .apply(lambda x: (x == 'high').mean() * 100)\n",
    "        .sort_index()\n",
    ")\n",
    "\n",
    "age_usage.plot(kind='bar')\n",
    "plt.title('Clients HIGH by age')\n",
    "plt.ylabel('% in HIGH')\n",
    "plt.xlabel('group by age')\n",
    "plt.ylim(0, 100)\n",
    "plt.show()"
   ]
  },
  {
   "cell_type": "code",
   "execution_count": null,
   "id": "8a552d6f-ee0a-43d4-b5b1-e4e4b9aca0fb",
   "metadata": {},
   "outputs": [],
   "source": [
    "# Who are the primary clients using this online process? +50 years"
   ]
  },
  {
   "cell_type": "code",
   "execution_count": 15,
   "id": "438f2b3e-c9c7-4717-b2c4-044f2d1807d3",
   "metadata": {},
   "outputs": [
    {
     "name": "stderr",
     "output_type": "stream",
     "text": [
      "C:\\Users\\Usuario\\AppData\\Local\\Temp\\ipykernel_19628\\371378374.py:6: FutureWarning: The default of observed=False is deprecated and will be changed to True in a future version of pandas. Pass observed=False to retain current behavior or observed=True to adopt the future default and silence this warning.\n",
      "  demo.groupby('tenure_group')['online_usage']\n"
     ]
    },
    {
     "data": {
      "image/png": "[encoded data removed]",
      "text/plain": [
       "<Figure size 640x480 with 1 Axes>"
      ]
     },
     "metadata": {},
     "output_type": "display_data"
    }
   ],
   "source": [
    "demo['tenure_group'] = pd.cut(demo['clnt_tenure_yr'],\n",
    "                              bins=[0, 10, 25, 50, 100],\n",
    "                              labels=['<10', '10-25', '25-50', '50+'])\n",
    "\n",
    "tenure_usage = (\n",
    "    demo.groupby('tenure_group')['online_usage']\n",
    "        .apply(lambda x: (x == 'high').mean() * 100)\n",
    "        .sort_index()\n",
    ")\n",
    "\n",
    "tenure_usage.plot(kind='bar')\n",
    "plt.title('Clients HIGH group by antique ')\n",
    "plt.ylabel('% in HIGH')\n",
    "plt.xlabel('Antique (years)')\n",
    "plt.ylim(0, 100)\n",
    "plt.show()"
   ]
  },
  {
   "cell_type": "code",
   "execution_count": null,
   "id": "b8230226-ae69-45f2-aa44-d22252ad5c01",
   "metadata": {},
   "outputs": [],
   "source": [
    "#Are the primary clients younger or older, new or long-standing? 1. olders. 2. long-standing"
   ]
  },
  {
   "cell_type": "code",
   "execution_count": null,
   "id": "ecd6c038-9648-4b90-b469-ce38e2de938c",
   "metadata": {},
   "outputs": [],
   "source": []
  }
 ],
 "metadata": {
  "kernelspec": {
   "display_name": "Python 3 (ipykernel)",
   "language": "python",
   "name": "python3"
  },
  "language_info": {
   "codemirror_mode": {
    "name": "ipython",
    "version": 3
   },
   "file_extension": ".py",
   "mimetype": "text/x-python",
   "name": "python",
   "nbconvert_exporter": "python",
   "pygments_lexer": "ipython3",
   "version": "3.13.1"
  }
 },
 "nbformat": 4,
 "nbformat_minor": 5
}
