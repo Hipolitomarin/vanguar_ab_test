{
 "cells": [
  {
   "cell_type": "code",
   "execution_count": null,
   "id": "423539a3-03f2-46b7-bb98-97f2de1ba398",
   "metadata": {},
   "outputs": [],
   "source": [
    "import pandas as pd\n",
    "import matplotlib.pyplot as plt\n",
    "import seaborn as sns\n",
    "import numpy as np\n",
    "%matplotlib inline\n",
    "\n",
    "# Importing libraries\n",
    "import pandas as pd\n",
    "import numpy as np\n",
    "import seaborn as sns\n",
    "import matplotlib.pyplot as plt\n",
    "import plotly.express as px\n",
    "import scipy as sp\n",
    "import plotly.graph_objects as go\n",
    "from plotly.subplots import make_subplots\n",
    "from scipy.stats import ttest_ind\n",
    "from scipy import stats\n",
    "from scipy.stats import boxcox\n",
    "from scipy.stats import pearsonr\n",
    "import scipy.stats as st"
   ]
  },
  {
   "cell_type": "code",
   "execution_count": null,
   "id": "da5ba9e5-8449-4a0f-b9c2-a958caae59e3",
   "metadata": {},
   "outputs": [],
   "source": [
    "df_demo = pd.read_csv('../Data/clean/demo_clean.csv')\n",
    "df_digital = pd.read_csv('../Data/clean/digital_footprints.csv')\n",
    "df_experiment = pd.read_csv('../Data/clean/clean_final_experiment.csv')"
   ]
  },
  {
   "cell_type": "code",
   "execution_count": null,
   "id": "664c4dde-0bf0-44e3-913f-ecdad81c28e9",
   "metadata": {},
   "outputs": [],
   "source": [
    "df_digital.head()"
   ]
  },
  {
   "cell_type": "code",
   "execution_count": null,
   "id": "7661dda3-21f4-4ef6-b6ff-0e1f5cd3f91c",
   "metadata": {},
   "outputs": [],
   "source": [
    "df_demo.head()"
   ]
  },
  {
   "cell_type": "code",
   "execution_count": null,
   "id": "ad1f8173-8974-4882-8a38-d454c4bf6914",
   "metadata": {},
   "outputs": [],
   "source": [
    "df_experiment.head()"
   ]
  },
  {
   "cell_type": "code",
   "execution_count": null,
   "id": "8d4aee30-98f9-4e9d-a1ab-672370035c76",
   "metadata": {},
   "outputs": [],
   "source": [
    "# Using concat to combine df_digital, df_demo, and df_experiment\n",
    "\n",
    "df = pd.concat([df_digital, df_demo, df_experiment], axis=1, join='inner')\n",
    "\n",
    "df.head()"
   ]
  },
  {
   "cell_type": "code",
   "execution_count": null,
   "id": "a098173c-4307-4301-93a6-74a65b6f3d0a",
   "metadata": {},
   "outputs": [],
   "source": [
    "\n",
    "\n",
    "# Convert the 'date_time' column to datetime \n",
    "df['date_time'] = pd.to_datetime(df['date_time'])\n",
    "\n",
    "# Sort the DataFrame by date_time to ensure chronological order\n",
    "df = df.sort_values('date_time')\n",
    "\n",
    "# Calculate the time differences between consecutive steps\n",
    "df['duration_between_steps'] = df['date_time'].diff()\n",
    "\n",
    "\n",
    "df = df.sort_values(['process_step', 'date_time'])\n",
    "df['duration_between_steps'] = df.groupby('process_step')['date_time'].diff()\n",
    "\n",
    "# Option 1: Specify that day comes first\n",
    "df['date_time'] = pd.to_datetime(df['date_time'], dayfirst=True)\n",
    "\n",
    "print(df)"
   ]
  },
  {
   "cell_type": "code",
   "execution_count": null,
   "id": "b73d7b11-34ce-4d62-aee6-fd648949e18c",
   "metadata": {},
   "outputs": [],
   "source": [
    "import pandas as pd\n",
    "\n",
    "\n",
    "df = pd.DataFrame(df)\n",
    "\n",
    "df['date_time'] = pd.to_datetime(df['date_time'])\n",
    "df = df.sort_values(['process_step', 'date_time'])\n",
    "df['duration_between_steps'] = df.groupby('process_step')['date_time'].diff()\n",
    "\n",
    "print(df)\n"
   ]
  },
  {
   "cell_type": "code",
   "execution_count": null,
   "id": "f6e0d53d-bb33-4a11-8e37-7fedff32b751",
   "metadata": {},
   "outputs": [],
   "source": [
    "import pandas as pd\n",
    "\n",
    "\n",
    "# Create DataFrame\n",
    "df = pd.DataFrame(df)\n",
    "\n",
    "# Convert to datetime\n",
    "df['date_time'] = pd.to_datetime(df['date_time'])\n",
    "\n",
    "# Sort by process and time\n",
    "df = df.sort_values(['process_step', 'date_time'])\n",
    "\n",
    "# Calculate duration between steps within each process\n",
    "df['duration_between_steps'] = df.groupby('process_step')['date_time'].diff()\n",
    "\n",
    "# Optional: Convert duration to minutes (or hours)\n",
    "df['duration_minutes'] = df['duration_between_steps'].dt.total_seconds() / 60\n",
    "\n",
    "print(df)\n"
   ]
  },
  {
   "cell_type": "code",
   "execution_count": null,
   "id": "dffa5b13-24c7-4996-97e0-0c856f0efd55",
   "metadata": {},
   "outputs": [],
   "source": [
    "df_filtered = df.dropna(subset=['duration_between_steps'])\n",
    "df_filtered"
   ]
  },
  {
   "cell_type": "code",
   "execution_count": null,
   "id": "0dda04f0-cfbf-41e4-a128-2b2f0369a726",
   "metadata": {},
   "outputs": [],
   "source": [
    "total_duration_minutes = df.groupby('process_step')['duration_minutes'].sum()\n",
    "print(total_duration_minutes)\n"
   ]
  },
  {
   "cell_type": "code",
   "execution_count": null,
   "id": "24ad31e8-975f-4b68-9ec7-f2542aa345d8",
   "metadata": {},
   "outputs": [],
   "source": [
    "\n",
    "# Drop NaT durations for plotting\n",
    "plot_df = df.dropna(subset=['duration_minutes'])\n",
    "\n",
    "# Bar plot of durations\n",
    "plt.figure(figsize=(8, 5))\n",
    "for label, group in plot_df.groupby('process_step'):\n",
    "    plt.plot(group['date_time'], group['duration_minutes'], marker='o', label=f'Process {label}')\n",
    "\n",
    "plt.xlabel('Time')\n",
    "plt.ylabel('Duration between steps (minutes)')\n",
    "plt.title('Step Durations by Process')\n",
    "plt.legend()\n",
    "plt.grid(True)\n",
    "plt.tight_layout()\n",
    "plt.show()\n"
   ]
  },
  {
   "cell_type": "code",
   "execution_count": null,
   "id": "5a443d61-7403-493b-83bc-a1fd5f0e436f",
   "metadata": {},
   "outputs": [],
   "source": [
    "# Add a cumulative duration column\n",
    "df['cumulative_minutes'] = df.groupby('process_step')['duration_minutes'].cumsum()\n",
    "\n",
    "print(df)\n"
   ]
  },
  {
   "cell_type": "code",
   "execution_count": null,
   "id": "fcafd9d0-f8e0-435b-adef-7f70fecf0218",
   "metadata": {},
   "outputs": [],
   "source": [
    "df['cumulative_minutes'] = df.groupby('process_step')['duration_minutes'].cumsum()\n",
    "\n",
    "\n",
    "plt.figure(figsize=(10, 6))\n",
    "\n",
    "# Plot each process line\n",
    "for name, group in df.groupby('process_step'):\n",
    "    plt.plot(group['date_time'], group['cumulative_minutes'], marker='o', label=f'Process {name}')\n",
    "\n",
    "plt.title('Cumulative Duration Curve per Process')\n",
    "plt.xlabel('Time')\n",
    "plt.ylabel('Cumulative Duration (Minutes)')\n",
    "plt.legend()\n",
    "plt.grid(True)\n",
    "plt.tight_layout()\n",
    "plt.show()\n"
   ]
  },
  {
   "cell_type": "code",
   "execution_count": null,
   "id": "85fbfd09-9182-4292-93a4-4a8605310ee6",
   "metadata": {},
   "outputs": [],
   "source": [
    "mean_duration_minutes = df.groupby('process_step')['duration_minutes'].mean()\n",
    "print(mean_duration_minutes)"
   ]
  },
  {
   "cell_type": "code",
   "execution_count": null,
   "id": "b9693ec9-8177-426b-b33c-bfe87dbd9ece",
   "metadata": {},
   "outputs": [],
   "source": [
    "mean_duration = df[df['duration_minutes'] > 0].groupby('process_step')['duration_minutes'].mean()\n",
    "mean_duration"
   ]
  },
  {
   "cell_type": "code",
   "execution_count": null,
   "id": "23f73168-758e-42e8-9343-fe5a024f4b5c",
   "metadata": {},
   "outputs": [],
   "source": [
    "plt.figure(figsize=(6, 4))\n",
    "mean_duration.plot(kind='bar', color='skyblue', edgecolor='black')\n",
    "\n",
    "# Customize plot\n",
    "plt.title('Mean Duration Between Steps per Process')\n",
    "plt.xlabel('Process Step')\n",
    "plt.ylabel('Mean Duration (Minutes)')\n",
    "plt.xticks(rotation=0)\n",
    "plt.grid(axis='y', linestyle='--', alpha=0.7)\n",
    "plt.tight_layout()\n",
    "\n",
    "plt.show()"
   ]
  },
  {
   "cell_type": "code",
   "execution_count": null,
   "id": "df209ad8-c984-49b7-a1a7-b07ca9d77aab",
   "metadata": {},
   "outputs": [],
   "source": [
    "mean_duration_sorted = mean_duration.sort_values(ascending=False)  # Set to True for ascending\n",
    "plt.figure(figsize=(6, 4))\n",
    "mean_duration_sorted.plot(kind='bar', color='skyblue', edgecolor='black')\n",
    "\n",
    "# Customize plot\n",
    "plt.title('Mean Duration Between Steps per Process (Sorted)')\n",
    "plt.xlabel('Process Step')\n",
    "plt.ylabel('Mean Duration (Minutes)')\n",
    "plt.xticks(rotation=0)\n",
    "plt.grid(axis='y', linestyle='--', alpha=0.7)\n",
    "plt.tight_layout()\n",
    "\n",
    "plt.show()"
   ]
  },
  {
   "cell_type": "code",
   "execution_count": null,
   "id": "1c55fc7d-49ce-4c79-ad4d-a56006951baf",
   "metadata": {},
   "outputs": [],
   "source": [
    "df.columns"
   ]
  },
  {
   "cell_type": "code",
   "execution_count": null,
   "id": "54398af2-f918-4a93-adce-205b11f24dbf",
   "metadata": {},
   "outputs": [],
   "source": [
    "# Calculate completion rate per day using your existing columns\n",
    "import pandas as pd\n",
    "import seaborn as sns\n",
    "import matplotlib.pyplot as plt\n",
    "\n",
    "# Extract date from date_time column\n",
    "df['date'] = pd.to_datetime(df['date_time']).dt.date\n",
    "\n",
    "# Calculate total cumulative minutes per day\n",
    "# This gets the maximum cumulative minutes for each day\n",
    "daily_totals = df.groupby('date')['cumulative_minutes'].max().reset_index()\n",
    "daily_totals.rename(columns={'cumulative_minutes': 'completion_rate_per_day'}, inplace=True)\n",
    "\n",
    "# Create histogram\n",
    "sns.histplot(daily_totals['completion_rate_per_day'], \n",
    "             bins=20, kde=True, color='skyblue', edgecolor='black')\n",
    "\n",
    "plt.title('Histogram with Density Plot: Completion Rate per Day')\n",
    "plt.xlabel('Completion Rate per Day (Cumulative Minutes)')\n",
    "plt.ylabel('Frequency')\n",
    "plt.grid(True, linestyle='--', alpha=0.5)\n",
    "plt.tight_layout()\n",
    "plt.show()"
   ]
  },
  {
   "cell_type": "code",
   "execution_count": null,
   "id": "ad4d5362-9cef-487e-bb23-e2e2b662d650",
   "metadata": {},
   "outputs": [],
   "source": [
    "# Calculate completion rate per day using process_step and duration_between_steps\n",
    "import pandas as pd\n",
    "import seaborn as sns\n",
    "import matplotlib.pyplot as plt\n",
    "\n",
    "# Extract date from date_time column\n",
    "df['date'] = pd.to_datetime(df['date_time']).dt.date\n",
    "\n",
    "# Calculate completion metrics\n",
    "# Group by date and find the average duration between steps\n",
    "completion_rate_day = df.groupby('date')['duration_between_steps'].mean().reset_index()\n",
    "completion_rate_day.rename(columns={'duration_between_steps': 'completion_rate_per_day'}, inplace=True)\n",
    "\n",
    "# Alternative: Count number of process steps completed per day\n",
    "\n",
    "\n",
    "step_counts = df.groupby(['date', 'process_step']).size().reset_index(name='count')\n",
    "completion_rate_day = step_counts.groupby('date')['count'].sum().reset_index()\n",
    "completion_rate_day.rename(columns={'count': 'completion_rate_per_day'}, inplace=True)\n",
    "\n",
    "# Create histogram\n",
    "sns.histplot(completion_rate_day['completion_rate_per_day'], \n",
    "             bins=20, kde=True, color='skyblue', edgecolor='black')\n",
    "\n",
    "plt.title('Histogram with Density Plot: Completion Rate per Day')\n",
    "plt.xlabel('Avg Duration Between Steps per Day (minutes)')\n",
    "plt.ylabel('Frequency')\n",
    "plt.grid(True, linestyle='--', alpha=0.5)\n",
    "plt.tight_layout()\n",
    "plt.show()"
   ]
  },
  {
   "cell_type": "code",
   "execution_count": null,
   "id": "9331c907-f2a8-4224-993c-79c378e7de0e",
   "metadata": {},
   "outputs": [],
   "source": []
  }
 ],
 "metadata": {
  "kernelspec": {
   "display_name": "Python [conda env:base] *",
   "language": "python",
   "name": "conda-base-py"
  },
  "language_info": {
   "codemirror_mode": {
    "name": "ipython",
    "version": 3
   },
   "file_extension": ".py",
   "mimetype": "text/x-python",
   "name": "python",
   "nbconvert_exporter": "python",
   "pygments_lexer": "ipython3",
   "version": "3.13.2"
  }
 },
 "nbformat": 4,
 "nbformat_minor": 5
}
