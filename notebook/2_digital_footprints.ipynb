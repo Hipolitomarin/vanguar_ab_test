{
 "cells": [
  {
   "cell_type": "code",
   "execution_count": null,
   "id": "c1c1b112-ef33-458b-ad92-2fcc2eba1c68",
   "metadata": {},
   "outputs": [],
   "source": [
    "import pandas as pd\n",
    "\n",
    "df1 = pd.read_csv(\"../Data/raw/df_final_web_data_pt_1.txt\")\n",
    "display(df1.head())\n",
    "\n",
    "df2 = pd.read_csv(\"../Data/raw/df_final_web_data_pt_2.txt\")\n",
    "display(df2.head())\n",
    "\n",
    "# client_id: Every client's unique ID\n",
    "# visitor_id: A unique ID for each client-device combination\n",
    "# visit_id: A unique ID for each web visit/session\n",
    "# process_step: Marks each step in the digital process\n",
    "# date_time: Timestamp of each web activity"
   ]
  },
  {
   "cell_type": "code",
   "execution_count": null,
   "id": "a1e34c9c-ca04-4ec9-a9a2-31fbd1f6a216",
   "metadata": {},
   "outputs": [],
   "source": [
    "#concat both dataframes\n",
    "df = pd.concat([df1, df2], axis = 0).reset_index(drop=True)\n",
    "display(df.head())"
   ]
  },
  {
   "cell_type": "code",
   "execution_count": null,
   "id": "e4092df5-8cec-4365-a946-54677aeff0f5",
   "metadata": {},
   "outputs": [],
   "source": [
    "#show duplicated rows\n",
    "display(df.duplicated().sum())"
   ]
  },
  {
   "cell_type": "code",
   "execution_count": null,
   "id": "eab4d5b7-cdb8-418b-8395-e37e350d9676",
   "metadata": {},
   "outputs": [],
   "source": [
    "#drop duplicated rows\n",
    "df = df.drop_duplicates()\n",
    "display(df.duplicated().sum())"
   ]
  },
  {
   "cell_type": "code",
   "execution_count": null,
   "id": "dce6fb67-f998-4ece-8272-862766fe3f77",
   "metadata": {},
   "outputs": [],
   "source": [
    "#check for number of rows, null-values and data-types\n",
    "display(df.info())"
   ]
  },
  {
   "cell_type": "code",
   "execution_count": null,
   "id": "83eab557-8b5d-486c-a95f-4cfc5200feaf",
   "metadata": {},
   "outputs": [],
   "source": [
    "#change data-type to date\n",
    "df.date_time = pd.to_datetime(df.date_time)\n",
    "df.dtypes"
   ]
  },
  {
   "cell_type": "code",
   "execution_count": null,
   "id": "982692ad-1a4e-4425-8137-ac08244f29b8",
   "metadata": {},
   "outputs": [],
   "source": [
    "#check unique values\n",
    "df.nunique()\n",
    "\n",
    "# 120.157 unique customers\n",
    "# 130.236 unique devices\n",
    "# 158.095 unique sessions"
   ]
  },
  {
   "cell_type": "code",
   "execution_count": null,
   "id": "c688bfc8-e34a-475f-bd27-797080c923bb",
   "metadata": {},
   "outputs": [],
   "source": [
    "#check steps of process\n",
    "df.process_step.unique()"
   ]
  },
  {
   "cell_type": "code",
   "execution_count": null,
   "id": "655d0bf6-95cc-49d8-85dc-8d8071114d93",
   "metadata": {},
   "outputs": [],
   "source": [
    "df['date'] = df['date_time'].dt.date\n",
    "df['time'] = df['date_time'].dt.time\n",
    "df"
   ]
  },
  {
   "cell_type": "code",
   "execution_count": null,
   "id": "9c68f9bd-7643-454f-bede-af038e324289",
   "metadata": {},
   "outputs": [],
   "source": [
    "# save as csv\n",
    "df.to_csv(\"../Data/clean/digital_footprints.csv\", index=False, encoding=\"utf-8\", sep=\";\")"
   ]
  },
  {
   "cell_type": "code",
   "execution_count": null,
   "id": "601bc6d9-6699-4843-b2eb-3bb22ef28be9",
   "metadata": {},
   "outputs": [],
   "source": []
  }
 ],
 "metadata": {
  "kernelspec": {
   "display_name": "Python [conda env:base] *",
   "language": "python",
   "name": "conda-base-py"
  },
  "language_info": {
   "codemirror_mode": {
    "name": "ipython",
    "version": 3
   },
   "file_extension": ".py",
   "mimetype": "text/x-python",
   "name": "python",
   "nbconvert_exporter": "python",
   "pygments_lexer": "ipython3",
   "version": "3.12.7"
  }
 },
 "nbformat": 4,
 "nbformat_minor": 5
}
