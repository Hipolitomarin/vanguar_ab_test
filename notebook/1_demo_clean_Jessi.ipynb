{
 "cells": [
  {
   "cell_type": "code",
   "execution_count": null,
   "id": "f0481329-abbb-455f-a8f1-a4bcbf507ea0",
   "metadata": {},
   "outputs": [],
   "source": [
    "import pandas as pd"
   ]
  },
  {
   "cell_type": "code",
   "execution_count": null,
   "id": "a0068a4a-cc25-4a1c-a15f-f701ceb56a74",
   "metadata": {},
   "outputs": [],
   "source": [
    "#demo = pd.read_csv(\"../Data/raw/df_final_demo.txt\", delimiter=\",\") "
   ]
  },
  {
   "cell_type": "code",
   "execution_count": null,
   "id": "f7350399-f048-45e6-8115-d46eba9e2a36",
   "metadata": {},
   "outputs": [],
   "source": [
    "demo = pd.read_csv(\"../Data/raw/df_final_demo.txt\", delimiter=\",\") "
   ]
  },
  {
   "cell_type": "code",
   "execution_count": null,
   "id": "2450df37-0ddc-4740-a32d-a646de09dbbf",
   "metadata": {},
   "outputs": [],
   "source": [
    "demo.head()"
   ]
  },
  {
   "cell_type": "code",
   "execution_count": null,
   "id": "ad309994-28b5-4463-9cb4-68c495ce8986",
   "metadata": {},
   "outputs": [],
   "source": [
    "print(demo.shape)"
   ]
  },
  {
   "cell_type": "markdown",
   "id": "6300522e-1c7f-43ca-a8ae-29129f3040e1",
   "metadata": {},
   "source": [
    "demo.columns = (\n",
    "    demo.columns.str.strip()\n",
    "    .str.lower()\n",
    "    .str.replace(\" \", \"_\")\n",
    "    .str.replace(\"-\", \"_\")\n",
    ")"
   ]
  },
  {
   "cell_type": "code",
   "execution_count": null,
   "id": "2787e158-a076-4026-a279-5e6eab2f0297",
   "metadata": {},
   "outputs": [],
   "source": [
    "demo.isnull().sum()"
   ]
  },
  {
   "cell_type": "code",
   "execution_count": null,
   "id": "29a05936-d2ac-4d92-b8a9-20c30be968c0",
   "metadata": {},
   "outputs": [],
   "source": [
    "demo = demo.dropna(subset=['bal'])\n",
    "demo.isnull().sum()"
   ]
  },
  {
   "cell_type": "code",
   "execution_count": null,
   "id": "a170a65e-286a-4e2a-af4a-4ed118363668",
   "metadata": {},
   "outputs": [],
   "source": [
    "print(demo.shape)"
   ]
  },
  {
   "cell_type": "code",
   "execution_count": null,
   "id": "872f291c-0c79-4570-8bed-719bbc7a30e1",
   "metadata": {},
   "outputs": [],
   "source": [
    "#Check duplicates client_id   --------------------------   CLIENT_ID -------------------------\n",
    "duplicated = demo['client_id'].duplicated().sum()\n",
    "print(f\"Duplicates clients: {duplicated}\")"
   ]
  },
  {
   "cell_type": "code",
   "execution_count": null,
   "id": "5f379ad7-7c5c-4922-8db2-d995ff2c9cbc",
   "metadata": {},
   "outputs": [],
   "source": [
    "#Cleaning the clnt_tenure_yr column ----------------------- clnt_tenure_yr--------------------\n",
    "\n",
    "# Convert to integers and correct out-of-range values (0–50)\n",
    "demo['clnt_tenure_yr'] = demo['clnt_tenure_yr'].round().astype('Int64')\n",
    "demo.loc[~demo['clnt_tenure_yr'].between(0, 50), 'clnt_tenure_yr'] = pd.NA"
   ]
  },
  {
   "cell_type": "code",
   "execution_count": null,
   "id": "bdc58886-26a7-45c4-a980-edf8e4b3db6f",
   "metadata": {},
   "outputs": [],
   "source": [
    "demo['clnt_tenure_yr'].max()"
   ]
  },
  {
   "cell_type": "code",
   "execution_count": null,
   "id": "2225e001-3f61-4f69-b5e3-ffe7f5b917a7",
   "metadata": {},
   "outputs": [],
   "source": [
    "#Cleaing the clnt_tenure_mnth column ----------------------------clnt_tenure_mnth-----------------------------------------\n",
    "\n",
    "# Round and convert to integers\n",
    "demo['clnt_tenure_mnth'] = demo['clnt_tenure_mnth'].round().astype('Int64')\n",
    "\n",
    "# If there are months >= 12, convert the excess to years\n",
    "overflow = demo['clnt_tenure_mnth'] // 12\n",
    "demo['clnt_tenure_yr'] += overflow\n",
    "demo['clnt_tenure_mnth'] = demo['clnt_tenure_mnth'] % 12"
   ]
  },
  {
   "cell_type": "code",
   "execution_count": null,
   "id": "7c49d77d-7964-48e3-a6db-6d6583a1aff3",
   "metadata": {},
   "outputs": [],
   "source": [
    "#Cleaning the clnt_age column -------------------------------clnt_age------------------------------------\n",
    "\n",
    "# Fill the single null with the median\n",
    "median_age = demo['clnt_age'].median()\n",
    "demo['clnt_age'] = demo['clnt_age'].fillna(median_age).round().astype('Int64')\n",
    "\n",
    "# Nullify ages outside of 18–100\n",
    "demo.loc[~demo['clnt_age'].between(18, 100), 'clnt_age'] = pd.NA"
   ]
  },
  {
   "cell_type": "code",
   "execution_count": null,
   "id": "3371f34b-4cff-40d9-abd8-cb5a6f1831a5",
   "metadata": {},
   "outputs": [],
   "source": [
    "#Cleaning the gender column --------------------------------------gendr-----------------------------------------\n",
    "#use dictionary for map\n",
    "map_gender = {\n",
    "    'm': 'male',\n",
    "    'male': 'male',\n",
    "    'f': 'female',\n",
    "    'female': 'female'\n",
    "}\n",
    "#convert to object and nulls are unknow:\n",
    "demo['gendr'] = (\n",
    "    demo['gendr']\n",
    "        .astype(str)\n",
    "        .str.strip()\n",
    "        .str.lower()\n",
    "        .map(map_gender)\n",
    "        .fillna('unknown')\n",
    ")"
   ]
  },
  {
   "cell_type": "code",
   "execution_count": null,
   "id": "a667f0ba-0f90-4a98-84c8-89603e7cd828",
   "metadata": {},
   "outputs": [],
   "source": [
    "print(demo)"
   ]
  },
  {
   "cell_type": "code",
   "execution_count": null,
   "id": "14478d04-9749-471a-a76d-33cc1e63922f",
   "metadata": {},
   "outputs": [],
   "source": [
    "## The data look very clean. We need only to change the datatype of columns: num_accts, calls_6_mnth, logons_6_mnth\n",
    "import numpy as np\n",
    "demo[\"num_accts\"] = demo[\"num_accts\"].fillna(0).astype(int)\n",
    "demo['num_accts'] = demo['num_accts'].apply(np.int64)\n",
    "demo[\"calls_6_mnth\"] = demo[\"calls_6_mnth\"].fillna(0).astype(int)\n",
    "demo['calls_6_mnth'] = demo['calls_6_mnth'].apply(np.int64)\n",
    "demo[\"logons_6_mnth\"] = demo[\"logons_6_mnth\"].fillna(0).astype(int)\n",
    "demo['logons_6_mnth'] = demo['logons_6_mnth'].apply(np.int64)"
   ]
  },
  {
   "cell_type": "code",
   "execution_count": null,
   "id": "b847c2bb-6a86-40b0-9bec-252f4be4529d",
   "metadata": {},
   "outputs": [],
   "source": [
    "print(demo)"
   ]
  },
  {
   "cell_type": "code",
   "execution_count": null,
   "id": "9894f9ed-0716-454b-8e53-1cea78c621c7",
   "metadata": {},
   "outputs": [],
   "source": [
    "from pathlib import Path\n",
    "\n",
    "\n",
    "Path(\"data/interim\").mkdir(parents=True, exist_ok=True)\n",
    "\n",
    "demo.to_csv(\"data/interim/demo_clean.csv\", index=False)\n",
    "\n",
    "print(\"✔️ Archivo guardado en data/interim/demo_clean.csv\")"
   ]
  },
  {
   "cell_type": "code",
   "execution_count": null,
   "id": "6701d622-bb77-4b43-a522-28423d5770ba",
   "metadata": {},
   "outputs": [],
   "source": [
    "# unique values logons\n",
    "demo.logons_6_mnth.unique()"
   ]
  },
  {
   "cell_type": "code",
   "execution_count": null,
   "id": "f70db649-c905-4b52-a327-2d73a8315351",
   "metadata": {},
   "outputs": [],
   "source": [
    "# median and mean logons\n",
    "display(demo.logons_6_mnth.median())\n",
    "display(demo.logons_6_mnth.mean())"
   ]
  },
  {
   "cell_type": "code",
   "execution_count": null,
   "id": "35bd3258-1ac1-4796-9c01-fda488e14f00",
   "metadata": {},
   "outputs": [],
   "source": [
    "# new df with users over median\n",
    "demo_primary = demo[demo[\"logons_6_mnth\"] > 6]\n",
    "demo_primary.logons_6_mnth.unique()"
   ]
  },
  {
   "cell_type": "code",
   "execution_count": null,
   "id": "f6137eb1-144a-4502-8b69-78c853f4ffe7",
   "metadata": {},
   "outputs": [],
   "source": [
    "# How many percent of users are top users?\n",
    "# What is the average of usage overall? How many users do 0, 1-3, 4-6, 7-9"
   ]
  },
  {
   "cell_type": "code",
   "execution_count": null,
   "id": "44e7bc53-cbdd-4699-b57d-51de899f0c74",
   "metadata": {},
   "outputs": [],
   "source": [
    "# tenure of top users\n",
    "demo_primary.tenure = (((demo_primary.clnt_tenure_yr * 12) + demo_primary.clnt_tenure_mnth)/12)\n",
    "demo.tenure = (((demo.clnt_tenure_yr * 12) + demo.clnt_tenure_mnth)/12)"
   ]
  },
  {
   "cell_type": "code",
   "execution_count": null,
   "id": "e55f8fa0-6f16-4d7c-8b76-22ddeaa2bae0",
   "metadata": {},
   "outputs": [],
   "source": [
    "# tenure of top users\n",
    "display(demo_primary.tenure.median())\n",
    "display(demo_primary.tenure.mean())\n",
    "\n",
    "display(demo.tenure.median())\n",
    "display(demo.tenure.mean())"
   ]
  },
  {
   "cell_type": "code",
   "execution_count": null,
   "id": "52fecdb2-8572-433f-ae6c-d5944ff0c9b7",
   "metadata": {},
   "outputs": [],
   "source": [
    "# Client Age of top users\n",
    "display(demo_primary.clnt_age.describe())\n",
    "display(demo.clnt_age.describe())"
   ]
  },
  {
   "cell_type": "code",
   "execution_count": null,
   "id": "70d7b7e2-05b2-48be-af76-5cafaea5303b",
   "metadata": {},
   "outputs": [],
   "source": [
    "# Gender of top users\n",
    "grouped = demo_primary.groupby('gendr').size()\n",
    "grouped_percentage = (grouped / grouped.sum()) * 100\n",
    "grouped_percentage_df = grouped_percentage.reset_index(name='percentage')\n",
    "print(grouped_percentage_df)\n",
    "\n",
    "grouped = demo.groupby('gendr').size()\n",
    "grouped_percentage = (grouped / grouped.sum()) * 100\n",
    "grouped_percentage_df = grouped_percentage.reset_index(name='percentage')\n",
    "print(grouped_percentage_df)"
   ]
  },
  {
   "cell_type": "code",
   "execution_count": null,
   "id": "90d8c30a-da2c-40fe-8110-462cdc8e4a6f",
   "metadata": {},
   "outputs": [],
   "source": [
    "# number of accounts\n",
    "display(demo_primary.num_accts.describe())\n",
    "display(demo.num_accts.describe())"
   ]
  },
  {
   "cell_type": "code",
   "execution_count": null,
   "id": "ca06e21f-80d9-49c6-9433-37121c6c50c2",
   "metadata": {},
   "outputs": [],
   "source": [
    "# balance\n",
    "display(demo_primary.bal.mean())\n",
    "display(demo_primary.bal.median())\n",
    "display(demo.bal.mean())\n",
    "display(demo.bal.median())"
   ]
  },
  {
   "cell_type": "code",
   "execution_count": null,
   "id": "b1d3eadf-b555-43e0-a635-16dd7d26d3fa",
   "metadata": {},
   "outputs": [],
   "source": []
  }
 ],
 "metadata": {
  "kernelspec": {
   "display_name": "Python [conda env:base] *",
   "language": "python",
   "name": "conda-base-py"
  },
  "language_info": {
   "codemirror_mode": {
    "name": "ipython",
    "version": 3
   },
   "file_extension": ".py",
   "mimetype": "text/x-python",
   "name": "python",
   "nbconvert_exporter": "python",
   "pygments_lexer": "ipython3",
   "version": "3.12.7"
  }
 },
 "nbformat": 4,
 "nbformat_minor": 5
}
